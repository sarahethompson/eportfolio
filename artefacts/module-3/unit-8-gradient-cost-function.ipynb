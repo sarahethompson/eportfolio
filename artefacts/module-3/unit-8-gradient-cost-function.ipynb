{
  "cells": [
    {
      "cell_type": "markdown",
      "metadata": {
        "id": "view-in-github",
        "colab_type": "text"
      },
      "source": [
        "<a href=\"https://colab.research.google.com/github/sarahethompson/eportfolio/blob/main/artefacts/module-3/unit-8-gradient-cost-function.ipynb\" target=\"_parent\"><img src=\"https://colab.research.google.com/assets/colab-badge.svg\" alt=\"Open In Colab\"/></a>"
      ]
    },
    {
      "cell_type": "markdown",
      "metadata": {
        "id": "SeTYQd6_vcoU"
      },
      "source": [
        "## Calculating cost with gradient descent and learning rate\n",
        "- Change the iteration and learning rate vaules and see the impact on cost.\n",
        "- Low iteration values with high learning rate (i.e. big steps) may lead to miss the global minimum\n",
        "- Goal is to reach minimum cost with minimum iteration"
      ]
    },
    {
      "cell_type": "markdown",
      "source": [
        "The code iteratively adjusts the slope and y-intercept of a line to minimize the cost function, which represents the difference between the predicted y-values and the actual y-values. With each iteration, the algorithm moves closer to the line that best fits the data points."
      ],
      "metadata": {
        "id": "bOcmRAVhwZF7"
      }
    },
    {
      "cell_type": "markdown",
      "source": [
        "**Gradient Descent**: The code implements gradient descent, which is an optimization algorithm used to find the minimum of a function. In this case, the function is the cost function, and the algorithm is trying to find the values of m (slope) and b (y-intercept) that minimize this cost.\n",
        "\n",
        "\n",
        "**Backpropagation**: Backpropagation is an algorithm used to train artificial neural networks. It uses the chain rule of calculus to calculate the gradient of the cost function with respect to the weights and biases of the network. This gradient information is then used by an optimization algorithm, like gradient descent, to update the weights and biases in a way that reduces the cost.\n",
        "\n",
        "\n",
        "So, the code shows you how the parameters (m and b) are updated based on the gradient of the cost function, which is a fundamental part of backpropagation. In a neural network, backpropagation would calculate the gradients for many more parameters (weights and biases in different layers), and then an optimizer like gradient descent would use those gradients to update all of those parameters.\n",
        "\n",
        "\n",
        "**Gradient Descent** is the engine that makes the adjustments.\n",
        "**Backpropagation** is the mechanism that provides the engine with the information (gradients) about how to make those adjustments in a complex system like a neural network.\n"
      ],
      "metadata": {
        "id": "kIbosPEbw_-x"
      }
    },
    {
      "cell_type": "markdown",
      "source": [
        "In a neural network, the backpropagation process calculates similar gradients, but for all the weights and biases in the network. For example:\n",
        "\n",
        "**Weights**: For each weight connecting two neurons, backpropagation calculates how much the cost function changes with respect to that specific weight. This gradient tells the optimization algorithm (like gradient descent) in which direction and by how much to adjust that weight to reduce the cost.\n",
        "**Biases**: Similarly, for each bias in a neuron, backpropagation calculates the gradient of the cost function with respect to that bias. This gradient guides the adjustment of the bias to minimize the cost.\n",
        "\n",
        "So, while the provided code shows gradients for just two parameters (m and b), in a neural network, backpropagation would compute gradients for potentially millions of weights and biases, providing the \"engine\" (gradient descent or another optimizer) with the information needed to update all these parameters and train the network.\n",
        "\n",
        "In a neural network, backpropagation uses the chain rule of calculus to calculate similar gradients for all the weights and biases across multiple layers, which is a more complex version of what's happening in these two lines of your code.\n",
        "\n",
        "*m (the slope)* is analogous to a weight in a neural network. It's a parameter that gets multiplied by the input (x) to influence the output.\n",
        "\n",
        "**b ** (the y-intercept) is analogous to a bias in a neural network. It's a parameter that is added to the weighted input to shift the output.\n",
        "\n",
        "In a neural network, you have many weights and biases, connecting different neurons across different layers. The backpropagation process calculates the gradients for all of these weights and biases, and the gradient descent (or another optimizer) updates them iteratively to minimize the cost function, just like your code updates m and b.\n",
        "\n",
        "So, while your code is a simplified example with only one \"weight\" (m) and one \"bias\" (b), it demonstrates the core principles of how parameters are adjusted using gradients to reduce error, which is the fundamental idea behind training neural networks.\n",
        "\n",
        "In this code:\n",
        "\n",
        "x represents the input data.\n",
        "y represents the target output (the actual values you are trying to predict).\n",
        "\n",
        "The goal of the gradient descent algorithm in this context is to find the values of m and b that minimize the difference between the predicted output (y_predicted) and the actual target output (y)."
      ],
      "metadata": {
        "id": "pXceSqp8NO1f"
      }
    },
    {
      "cell_type": "markdown",
      "source": [
        "\n",
        "In training a neural network though, we wouldn't be resetting these, with each pass through and backwards, this is meant to represent the whole training cycle with multuple inputs and outputs for a give neuron.\n",
        "\n",
        "This is a crucial distinction between this simplified example and training a full neural network.\n",
        "\n",
        "In the provided code, the gradient_descent function represents the entire training process for this simple linear model. The for loop iterates a set number of times (controlled by iterations), and within each iteration:\n",
        "\n",
        "A prediction is made using the current m_curr and b_curr for all the data points (x).\n",
        "\n",
        "The cost is calculated based on these predictions and the true values (y).\n",
        "\n",
        "The gradients (md and bd) are calculated based on all the data points.\n",
        "\n",
        "m_curr and b_curr are updated using the learning rate and the calculated gradients.\n",
        "\n",
        "In a neural network, the process is iterative over the entire training dataset (or batches of the dataset). The weights and biases are not reset with each pass. Instead:\n",
        "\n",
        "The network processes input data (often in batches).\n",
        "\n",
        "For each batch, the forward pass calculates predictions.\n",
        "\n",
        "The cost is calculated.\n",
        "\n",
        "Backpropagation calculates the gradients for all weights and biases based on that batch.\n",
        "\n",
        "An optimizer (like gradient descent) uses these gradients to update the weights and biases.\n",
        "\n",
        "This entire process (forward pass, cost calculation, backpropagation, and parameter update) constitutes one training step or iteration.\n",
        "\n",
        "The network goes through many such iterations, processing different batches of data, and the weights and biases are continuously refined based on the accumulated gradient information from all the data it has seen.\n",
        "\n",
        "So, the loop in this code is analogous to the multiple training iterations a neural network goes through, where the parameters (m_curr and b_curr in this case, weights and biases in a neural network) are progressively adjusted across the entire training process, not reset for each individual input or neuron. The gradients calculated within each iteration are based on the current state of the model and a portion (or all) of the training data.\n",
        "\n",
        "We can think of this code as representing the core calculation happening within a single neuron with a linear activation function.\n"
      ],
      "metadata": {
        "id": "HmU1f0IISH_d"
      }
    },
    {
      "cell_type": "code",
      "execution_count": null,
      "metadata": {
        "colab": {
          "base_uri": "https://localhost:8080/"
        },
        "id": "hV89GLcevcoW",
        "outputId": "bc09a68f-1341-48f2-987c-ffee2eb107fc"
      },
      "outputs": [
        {
          "output_type": "stream",
          "name": "stdout",
          "text": [
            "m 4.96, b 1.44, cost 89.0 iteration 0\n",
            "m 0.4991999999999983, b 0.26879999999999993, cost 71.10560000000002 iteration 1\n",
            "m 4.451584000000002, b 1.426176000000001, cost 56.8297702400001 iteration 2\n",
            "m 0.892231679999997, b 0.5012275199999995, cost 45.43965675929613 iteration 3\n",
            "m 4.041314713600002, b 1.432759910400001, cost 36.35088701894832 iteration 4\n",
            "m 1.2008760606719973, b 0.7036872622079998, cost 29.097483330142282 iteration 5\n",
            "m 3.7095643080294423, b 1.4546767911321612, cost 23.307872849944438 iteration 6\n",
            "m 1.4424862661541864, b 0.881337636696883, cost 18.685758762535738 iteration 7\n",
            "m 3.4406683721083144, b 1.4879302070713722, cost 14.994867596913156 iteration 8\n",
            "m 1.6308855378034224, b 1.0383405553279617, cost 12.046787238456794 iteration 9\n",
            "m 3.2221235247119777, b 1.5293810083298451, cost 9.691269350698109 iteration 10\n",
            "m 1.7770832372205707, b 1.1780607551353204, cost 7.8084968312098315 iteration 11\n",
            "m 3.0439475772474127, b 1.5765710804477953, cost 6.302918117062937 iteration 12\n",
            "m 1.8898457226770244, b 1.3032248704973899, cost 5.098330841763168 iteration 13\n",
            "m 2.898169312926714, b 1.6275829443328358, cost 4.133961682056365 iteration 14\n",
            "m 1.9761515088959358, b 1.4160484030347593, cost 3.361340532576948 iteration 15\n",
            "m 2.7784216197824048, b 1.6809279342791488, cost 2.741808050753047 iteration 16\n",
            "m 2.0415541605113807, b 1.5183370872989306, cost 2.244528230107478 iteration 17\n",
            "m 2.6796170361078637, b 1.735457156285639, cost 1.8449036666988363 iteration 18\n",
            "m 2.090471617540917, b 1.611567833948162, cost 1.5233119201782324 iteration 19\n",
            "m 2.5976890103737853, b 1.790290604096816, cost 1.2640979056612756 iteration 20\n",
            "m 2.1264168621494517, b 1.6969533824619085, cost 1.0547704368105268 iteration 21\n",
            "m 2.529385561184701, b 1.8447607474362664, cost 0.8853615531285766 iteration 22\n",
            "m 2.1521818147302194, b 1.7754939584778073, cost 0.7479156468369821 iteration 23\n",
            "m 2.472104720735685, b 1.8983676540508527, cost 0.6360820885229722 iteration 24\n",
            "m 2.1699839382964696, b 1.8480185634495874, cost 0.5447903801652151 iteration 25\n",
            "m 2.423763296438881, b 1.950743302915348, cost 0.4699911136477278 iteration 26\n",
            "m 2.1815831093070837, b 1.9152179921582295, cost 0.4084494012702221 iteration 27\n",
            "m 2.3826922006906663, b 2.0016232209455125, cost 0.35758014655339476 iteration 28\n",
            "m 2.1883747814212473, b 1.9776712492627107, cost 0.31531667795040486 iteration 29\n",
            "m 2.3475529664737507, b 2.0508239542984783, cost 0.280005985849834 iteration 30\n",
            "m 2.19146424741668, b 2.0358666977033213, cost 0.2503251729489924 iteration 31\n",
            "m 2.317271157065729, b 2.0982251873107836, cost 0.2252148202231392 iteration 32\n",
            "m 2.19172583072087, b 2.0902190019495084, cost 0.2038258415569305 iteration 33\n",
            "m 2.2909832477163747, b 2.1437555628915694, cost 0.1854770944836773 iteration 34\n",
            "m 2.1898500615476015, b 2.1410827139250586, cost 0.16962156815305135 iteration 35\n",
            "m 2.2679942505397945, b 2.1873814501542004, cost 0.15581941113049289 iteration 36\n",
            "m 2.1863812735157397, b 2.188763177870427, cost 0.14371641365577967 iteration 37\n",
            "m 2.247743906750233, b 2.2290980581236037, cost 0.13302683968149862 iteration 38\n",
            "m 2.181747562970493, b 2.2335252935837153, cost 0.1235197278285518 iteration 39\n",
            "m 2.2297797112222417, b 2.268922416384484, cost 0.11500795886067308 iteration 40\n",
            "m 2.176284659606544, b 2.2756005683762908, cost 0.1073395295828815 iteration 41\n",
            "m 2.213735385878407, b 2.306887840824943, cost 0.10039058653754176 iteration 42\n",
            "m 2.170254943136438, b 2.315192801071317, cost 0.09405986334903649 iteration 43\n",
            "m 2.1993136987020745, b 2.3430395801944157, cost 0.08826423771269985 iteration 44\n",
            "m 2.1638625904931037, b 2.3524826719863134, cost 0.08293518155053264 iteration 45\n",
            "m 2.1862727486718105, b 2.3774314010318136, cost 0.07801592372722821 iteration 46\n",
            "m 2.1572656385141533, b 2.3876314575042543, cost 0.07345918129710392 iteration 47\n",
            "m 2.1744150151272015, b 2.4101229178167802, cost 0.06922534441882239 iteration 48\n",
            "m 2.150585587951272, b 2.4207840437050385, cost 0.06528102333197575 iteration 49\n",
            "m 2.1635786121786147, b 2.441177514495622, cost 0.06159788433500965 iteration 50\n",
            "m 2.1439150477863547, b 2.4520713783305874, cost 0.05815171649232756 iteration 51\n",
            "m 2.153630302083688, b 2.470660734860243, cost 0.054921682590988646 iteration 52\n",
            "m 2.137323817683481, b 2.4816124722824338, cost 0.05188971727120564 iteration 53\n",
            "m 2.1444599118649865, b 2.4986390442291735, cost 0.04904004275389065 iteration 54\n",
            "m 2.1308637257526066, b 2.509516039457312, cost 0.04635877856867898 iteration 55\n",
            "m 2.1359758694885094, b 2.525178884782891, cost 0.04383362645496491 iteration 56\n",
            "m 2.124572474492945, b 2.535881845863144, cost 0.04145361541183607 iteration 57\n",
            "m 2.128101633371053, b 2.5503459627684273, cost 0.03920889490609494 iteration 58\n",
            "m 2.118476696509155, b 2.5608018247073736, cost 0.03709056666678448 iteration 59\n",
            "m 2.120772834793503, b 2.5742047184297996, cost 0.03509054742420437 iteration 60\n",
            "m 2.112594380710634, b 2.5843610027801502, cost 0.03320145649050715 iteration 61\n",
            "m 2.1139349893254455, b 2.5968179395942217, cost 0.03141652330669783 iteration 62\n",
            "m 2.1069367971074353, b 2.606638274382932, cost 0.0297295110602709 iteration 63\n",
            "m 2.1075416624945413, b 2.618246487870094, cost 0.0281346532591438 iteration 64\n",
            "m 2.1015100223265035, b 2.6277070518134993, cost 0.02662660077102551 iteration 65\n",
            "m 2.101552998161378, b 2.6385491128066176, cost 0.025200377334927134 iteration 66\n",
            "m 2.096316147250177, b 2.6476358156400974, cost 0.023851341948628327 iteration 67\n",
            "m 2.095934536582619, b 2.657782334457597, cost 0.022575156852933542 iteration 68\n",
            "m 2.0913542316575633, b 2.6664885833847243, cost 0.021367760086655644 iteration 69\n",
            "m 2.090656263915584, b 2.676000378847538, cost 0.020225341788425083 iteration 70\n",
            "m 2.0866210575773376, b 2.6843253115524512, cost 0.019144323582910155 iteration 71\n",
            "m 2.0856918466960472, b 2.693255154066937, cost 0.018121340518098442 iteration 72\n",
            "m 2.082111722558874, b 2.7012022430021245, cost 0.017153225123473996 iteration 73\n",
            "m 2.0810180142142363, b 2.709596257293525, cost 0.01623699324146153 iteration 74\n",
            "m 2.077820105696288, b 2.717172209303728, cost 0.015369831350564987 iteration 75\n",
            "m 2.0766140592050317, b 2.7250710050809133, cost 0.014549085151541019 iteration 76\n",
            "m 2.0737392325653374, b 2.732284895849552, cost 0.013772249230347736 iteration 77\n",
            "m 2.0724614332425584, b 2.7397244808822614, cost 0.013036957645638886 iteration 78\n",
            "m 2.0698615599121704, b 2.7465870759846718, cost 0.012340975315898037 iteration 79\n",
            "m 2.0685434179941087, b 2.7535995950692826, cost 0.011682190103287127 iteration 80\n",
            "m 2.066179196691222, b 2.760122819221025, cost 0.011058605508984853 iteration 81\n",
            "m 2.064844857288579, b 2.7667371537338745, cost 0.010468333909073289 iteration 82\n",
            "m 2.0626840746684203, b 2.7729336776379365, cost 0.009909590271584152 iteration 83\n",
            "m 2.061351937985791, b 2.7791759333750248, cost 0.009380686304666458 iteration 84\n",
            "m 2.0593680791107873, b 2.785058853801841, cost 0.00888002499345325 iteration 85\n",
            "m 2.0580520100509183, b 2.7909527592203687, cost 0.00840609548939642 iteration 86\n",
            "m 2.056223147935525, b 2.7965353529206687, cost 0.007957468320912865 iteration 87\n",
            "m 2.05493343816708, b 2.8021025854443096, cost 0.007532790898352296 iteration 88\n",
            "m 2.0532413459797505, b 2.8073981214530215, cost 0.007130783289727114 iteration 89\n",
            "m 2.0519854787579397, b 2.812658575950258, cost 0.0067502342464980354 iteration 90\n",
            "m 2.050414919687842, b 2.8176801739944057, cost 0.006389997461079277 iteration 91\n",
            "m 2.0491981775199255, b 2.8226521847051367, cost 0.006048988039717134 iteration 92\n",
            "m 2.047736336426391, b 2.8274127099427506, cost 0.005726179176078216 iteration 93\n",
            "m 2.0465622835434223, b 2.8321132348672426, cost 0.005420599012302664 iteration 94\n",
            "m 2.045198311770722, b 2.836625221187641, cost 0.005131327675503935 iteration 95\n",
            "m 2.0440691768841837, b 2.8410699961476715, cost 0.0048574944787420265 iteration 96\n",
            "m 2.042793827417138, b 2.845345591859636, cost 0.004598275276411798 iteration 97\n",
            "m 2.0417108070703494, b 2.8495492600018677, cost 0.004352889964781892 iteration 98\n",
            "m 2.0405161418256377, b 2.8536001910078013, cost 0.004120600119124239 iteration 99\n"
          ]
        }
      ],
      "source": [
        "# code credit:codebasics https://codebasics.io/coming-soon\n",
        "\n",
        "import numpy as np\n",
        "\n",
        "def gradient_descent(x,y):\n",
        "    m_curr = b_curr = 0\n",
        "    iterations = 100       #change value\n",
        "    n = len(x)\n",
        "    learning_rate = 0.08   #change value\n",
        "\n",
        "    for i in range(iterations):\n",
        "        # This line represents the forward pass, where the model makes a prediction based on the current parameters (m_curr and b_curr) and the input data (x).\n",
        "        y_predicted = m_curr * x + b_curr\n",
        "        # This line calculates the cost or error between the predicted values (y_predicted) and the actual values (y).\n",
        "        cost = (1/n) * sum([val**2 for val in (y-y_predicted)])\n",
        "        # back propogation\n",
        "        # This line calculates the gradient of the cost function with respect to the slope (m). It tells us how much the cost changes for a small change in m.\n",
        "        md = -(2/n)*sum(x*(y-y_predicted))\n",
        "        # This line calculates the gradient of the cost function with respect to the y-intercept (b). It tells us how much the cost changes for a small change in b.\n",
        "        bd = -(2/n)*sum(y-y_predicted)\n",
        "        # These gradient calculations (md and bd) are the core of the backpropagation process in this simple linear regression example. They determine the direction and magnitude of the adjustments needed for m and b to reduce the cost, which is then done in the next lines using gradient descent:\n",
        "        # gradient descent\n",
        "        m_curr = m_curr - learning_rate * md\n",
        "        b_curr = b_curr - learning_rate * bd\n",
        "        print (\"m {}, b {}, cost {} iteration {}\".format(m_curr,b_curr,cost, i))\n",
        "\n",
        "x = np.array([1,2,3,4,5])\n",
        "y = np.array([5,7,9,11,13])\n",
        "\n",
        "gradient_descent(x,y)"
      ]
    },
    {
      "cell_type": "code",
      "execution_count": null,
      "metadata": {
        "id": "kaw2K870vcoX"
      },
      "outputs": [],
      "source": []
    },
    {
      "cell_type": "markdown",
      "metadata": {
        "id": "c8952f84"
      },
      "source": [
        "# Task\n",
        "Visualize the effect of changing the number of iterations and the learning rate on the cost function in the provided gradient descent code."
      ]
    },
    {
      "cell_type": "markdown",
      "metadata": {
        "id": "ea752e0a"
      },
      "source": [
        "## Modify the `gradient descent` function\n",
        "\n",
        "### Subtask:\n",
        "Update the `gradient_descent` function to return a list containing the cost calculated at each iteration.\n"
      ]
    },
    {
      "cell_type": "markdown",
      "metadata": {
        "id": "3492fafe"
      },
      "source": [
        "**Reasoning**:\n",
        "The subtask requires modifying the existing `gradient_descent` function to collect and return the cost at each iteration. This involves initializing a list, appending the cost in the loop, and returning the list.\n",
        "\n"
      ]
    },
    {
      "cell_type": "code",
      "metadata": {
        "colab": {
          "base_uri": "https://localhost:8080/"
        },
        "id": "931d977c",
        "outputId": "14875292-a1ca-4d67-e915-e2c0ea353138"
      },
      "source": [
        "import numpy as np\n",
        "\n",
        "def gradient_descent(x,y):\n",
        "    m_curr = b_curr = 0\n",
        "    iterations = 100       #change value\n",
        "    n = len(x)\n",
        "    learning_rate = 0.08   #change value\n",
        "    cost_history = [] # Initialize an empty list to store costs\n",
        "\n",
        "    for i in range(iterations):\n",
        "        y_predicted = m_curr * x + b_curr\n",
        "        cost = (1/n) * sum([val**2 for val in (y-y_predicted)])\n",
        "        cost_history.append(cost) # Append the cost to the history list\n",
        "        md = -(2/n)*sum(x*(y-y_predicted))\n",
        "        bd = -(2/n)*sum(y-y_predicted)\n",
        "        m_curr = m_curr - learning_rate * md\n",
        "        b_curr = b_curr - learning_rate * bd\n",
        "        print (\"m {}, b {}, cost {} iteration {}\".format(m_curr,b_curr,cost, i))\n",
        "\n",
        "    return cost_history # Return the cost history list\n",
        "\n",
        "x = np.array([1,2,3,4,5])\n",
        "y = np.array([5,7,9,11,13])\n",
        "\n",
        "cost_history = gradient_descent(x,y)"
      ],
      "execution_count": 1,
      "outputs": [
        {
          "output_type": "stream",
          "name": "stdout",
          "text": [
            "m 4.96, b 1.44, cost 89.0 iteration 0\n",
            "m 0.4991999999999983, b 0.26879999999999993, cost 71.10560000000002 iteration 1\n",
            "m 4.451584000000002, b 1.426176000000001, cost 56.8297702400001 iteration 2\n",
            "m 0.892231679999997, b 0.5012275199999995, cost 45.43965675929613 iteration 3\n",
            "m 4.041314713600002, b 1.432759910400001, cost 36.35088701894832 iteration 4\n",
            "m 1.2008760606719973, b 0.7036872622079998, cost 29.097483330142282 iteration 5\n",
            "m 3.7095643080294423, b 1.4546767911321612, cost 23.307872849944438 iteration 6\n",
            "m 1.4424862661541864, b 0.881337636696883, cost 18.685758762535738 iteration 7\n",
            "m 3.4406683721083144, b 1.4879302070713722, cost 14.994867596913156 iteration 8\n",
            "m 1.6308855378034224, b 1.0383405553279617, cost 12.046787238456794 iteration 9\n",
            "m 3.2221235247119777, b 1.5293810083298451, cost 9.691269350698109 iteration 10\n",
            "m 1.7770832372205707, b 1.1780607551353204, cost 7.8084968312098315 iteration 11\n",
            "m 3.0439475772474127, b 1.5765710804477953, cost 6.302918117062937 iteration 12\n",
            "m 1.8898457226770244, b 1.3032248704973899, cost 5.098330841763168 iteration 13\n",
            "m 2.898169312926714, b 1.6275829443328358, cost 4.133961682056365 iteration 14\n",
            "m 1.9761515088959358, b 1.4160484030347593, cost 3.361340532576948 iteration 15\n",
            "m 2.7784216197824048, b 1.6809279342791488, cost 2.741808050753047 iteration 16\n",
            "m 2.0415541605113807, b 1.5183370872989306, cost 2.244528230107478 iteration 17\n",
            "m 2.6796170361078637, b 1.735457156285639, cost 1.8449036666988363 iteration 18\n",
            "m 2.090471617540917, b 1.611567833948162, cost 1.5233119201782324 iteration 19\n",
            "m 2.5976890103737853, b 1.790290604096816, cost 1.2640979056612756 iteration 20\n",
            "m 2.1264168621494517, b 1.6969533824619085, cost 1.0547704368105268 iteration 21\n",
            "m 2.529385561184701, b 1.8447607474362664, cost 0.8853615531285766 iteration 22\n",
            "m 2.1521818147302194, b 1.7754939584778073, cost 0.7479156468369821 iteration 23\n",
            "m 2.472104720735685, b 1.8983676540508527, cost 0.6360820885229722 iteration 24\n",
            "m 2.1699839382964696, b 1.8480185634495874, cost 0.5447903801652151 iteration 25\n",
            "m 2.423763296438881, b 1.950743302915348, cost 0.4699911136477278 iteration 26\n",
            "m 2.1815831093070837, b 1.9152179921582295, cost 0.4084494012702221 iteration 27\n",
            "m 2.3826922006906663, b 2.0016232209455125, cost 0.35758014655339476 iteration 28\n",
            "m 2.1883747814212473, b 1.9776712492627107, cost 0.31531667795040486 iteration 29\n",
            "m 2.3475529664737507, b 2.0508239542984783, cost 0.280005985849834 iteration 30\n",
            "m 2.19146424741668, b 2.0358666977033213, cost 0.2503251729489924 iteration 31\n",
            "m 2.317271157065729, b 2.0982251873107836, cost 0.2252148202231392 iteration 32\n",
            "m 2.19172583072087, b 2.0902190019495084, cost 0.2038258415569305 iteration 33\n",
            "m 2.2909832477163747, b 2.1437555628915694, cost 0.1854770944836773 iteration 34\n",
            "m 2.1898500615476015, b 2.1410827139250586, cost 0.16962156815305135 iteration 35\n",
            "m 2.2679942505397945, b 2.1873814501542004, cost 0.15581941113049289 iteration 36\n",
            "m 2.1863812735157397, b 2.188763177870427, cost 0.14371641365577967 iteration 37\n",
            "m 2.247743906750233, b 2.2290980581236037, cost 0.13302683968149862 iteration 38\n",
            "m 2.181747562970493, b 2.2335252935837153, cost 0.1235197278285518 iteration 39\n",
            "m 2.2297797112222417, b 2.268922416384484, cost 0.11500795886067308 iteration 40\n",
            "m 2.176284659606544, b 2.2756005683762908, cost 0.1073395295828815 iteration 41\n",
            "m 2.213735385878407, b 2.306887840824943, cost 0.10039058653754176 iteration 42\n",
            "m 2.170254943136438, b 2.315192801071317, cost 0.09405986334903649 iteration 43\n",
            "m 2.1993136987020745, b 2.3430395801944157, cost 0.08826423771269985 iteration 44\n",
            "m 2.1638625904931037, b 2.3524826719863134, cost 0.08293518155053264 iteration 45\n",
            "m 2.1862727486718105, b 2.3774314010318136, cost 0.07801592372722821 iteration 46\n",
            "m 2.1572656385141533, b 2.3876314575042543, cost 0.07345918129710392 iteration 47\n",
            "m 2.1744150151272015, b 2.4101229178167802, cost 0.06922534441882239 iteration 48\n",
            "m 2.150585587951272, b 2.4207840437050385, cost 0.06528102333197575 iteration 49\n",
            "m 2.1635786121786147, b 2.441177514495622, cost 0.06159788433500965 iteration 50\n",
            "m 2.1439150477863547, b 2.4520713783305874, cost 0.05815171649232756 iteration 51\n",
            "m 2.153630302083688, b 2.470660734860243, cost 0.054921682590988646 iteration 52\n",
            "m 2.137323817683481, b 2.4816124722824338, cost 0.05188971727120564 iteration 53\n",
            "m 2.1444599118649865, b 2.4986390442291735, cost 0.04904004275389065 iteration 54\n",
            "m 2.1308637257526066, b 2.509516039457312, cost 0.04635877856867898 iteration 55\n",
            "m 2.1359758694885094, b 2.525178884782891, cost 0.04383362645496491 iteration 56\n",
            "m 2.124572474492945, b 2.535881845863144, cost 0.04145361541183607 iteration 57\n",
            "m 2.128101633371053, b 2.5503459627684273, cost 0.03920889490609494 iteration 58\n",
            "m 2.118476696509155, b 2.5608018247073736, cost 0.03709056666678448 iteration 59\n",
            "m 2.120772834793503, b 2.5742047184297996, cost 0.03509054742420437 iteration 60\n",
            "m 2.112594380710634, b 2.5843610027801502, cost 0.03320145649050715 iteration 61\n",
            "m 2.1139349893254455, b 2.5968179395942217, cost 0.03141652330669783 iteration 62\n",
            "m 2.1069367971074353, b 2.606638274382932, cost 0.0297295110602709 iteration 63\n",
            "m 2.1075416624945413, b 2.618246487870094, cost 0.0281346532591438 iteration 64\n",
            "m 2.1015100223265035, b 2.6277070518134993, cost 0.02662660077102551 iteration 65\n",
            "m 2.101552998161378, b 2.6385491128066176, cost 0.025200377334927134 iteration 66\n",
            "m 2.096316147250177, b 2.6476358156400974, cost 0.023851341948628327 iteration 67\n",
            "m 2.095934536582619, b 2.657782334457597, cost 0.022575156852933542 iteration 68\n",
            "m 2.0913542316575633, b 2.6664885833847243, cost 0.021367760086655644 iteration 69\n",
            "m 2.090656263915584, b 2.676000378847538, cost 0.020225341788425083 iteration 70\n",
            "m 2.0866210575773376, b 2.6843253115524512, cost 0.019144323582910155 iteration 71\n",
            "m 2.0856918466960472, b 2.693255154066937, cost 0.018121340518098442 iteration 72\n",
            "m 2.082111722558874, b 2.7012022430021245, cost 0.017153225123473996 iteration 73\n",
            "m 2.0810180142142363, b 2.709596257293525, cost 0.01623699324146153 iteration 74\n",
            "m 2.077820105696288, b 2.717172209303728, cost 0.015369831350564987 iteration 75\n",
            "m 2.0766140592050317, b 2.7250710050809133, cost 0.014549085151541019 iteration 76\n",
            "m 2.0737392325653374, b 2.732284895849552, cost 0.013772249230347736 iteration 77\n",
            "m 2.0724614332425584, b 2.7397244808822614, cost 0.013036957645638886 iteration 78\n",
            "m 2.0698615599121704, b 2.7465870759846718, cost 0.012340975315898037 iteration 79\n",
            "m 2.0685434179941087, b 2.7535995950692826, cost 0.011682190103287127 iteration 80\n",
            "m 2.066179196691222, b 2.760122819221025, cost 0.011058605508984853 iteration 81\n",
            "m 2.064844857288579, b 2.7667371537338745, cost 0.010468333909073289 iteration 82\n",
            "m 2.0626840746684203, b 2.7729336776379365, cost 0.009909590271584152 iteration 83\n",
            "m 2.061351937985791, b 2.7791759333750248, cost 0.009380686304666458 iteration 84\n",
            "m 2.0593680791107873, b 2.785058853801841, cost 0.00888002499345325 iteration 85\n",
            "m 2.0580520100509183, b 2.7909527592203687, cost 0.00840609548939642 iteration 86\n",
            "m 2.056223147935525, b 2.7965353529206687, cost 0.007957468320912865 iteration 87\n",
            "m 2.05493343816708, b 2.8021025854443096, cost 0.007532790898352296 iteration 88\n",
            "m 2.0532413459797505, b 2.8073981214530215, cost 0.007130783289727114 iteration 89\n",
            "m 2.0519854787579397, b 2.812658575950258, cost 0.0067502342464980354 iteration 90\n",
            "m 2.050414919687842, b 2.8176801739944057, cost 0.006389997461079277 iteration 91\n",
            "m 2.0491981775199255, b 2.8226521847051367, cost 0.006048988039717134 iteration 92\n",
            "m 2.047736336426391, b 2.8274127099427506, cost 0.005726179176078216 iteration 93\n",
            "m 2.0465622835434223, b 2.8321132348672426, cost 0.005420599012302664 iteration 94\n",
            "m 2.045198311770722, b 2.836625221187641, cost 0.005131327675503935 iteration 95\n",
            "m 2.0440691768841837, b 2.8410699961476715, cost 0.0048574944787420265 iteration 96\n",
            "m 2.042793827417138, b 2.845345591859636, cost 0.004598275276411798 iteration 97\n",
            "m 2.0417108070703494, b 2.8495492600018677, cost 0.004352889964781892 iteration 98\n",
            "m 2.0405161418256377, b 2.8536001910078013, cost 0.004120600119124239 iteration 99\n"
          ]
        }
      ]
    },
    {
      "cell_type": "markdown",
      "metadata": {
        "id": "28125422"
      },
      "source": [
        "## Generate code to run the function with different parameters\n",
        "\n",
        "### Subtask:\n",
        "Run the modified `gradient_descent` function with different combinations of `iterations` and `learning_rate` to generate cost histories for analysis.\n"
      ]
    },
    {
      "cell_type": "markdown",
      "metadata": {
        "id": "072f0394"
      },
      "source": [
        "**Reasoning**:\n",
        "Define the function `run_gradient_descent_experiments` to run gradient descent with different parameters and collect the cost histories, and then call this function with the specified experiment parameters.\n",
        "\n"
      ]
    },
    {
      "cell_type": "code",
      "metadata": {
        "colab": {
          "base_uri": "https://localhost:8080/"
        },
        "id": "b25d397e",
        "outputId": "73cd43d3-2052-437d-d054-e97075ebb6a6"
      },
      "source": [
        "def run_gradient_descent_experiments(x, y, experiment_parameters):\n",
        "    \"\"\"\n",
        "    Runs gradient descent with different experiment parameters and collects cost histories.\n",
        "\n",
        "    Args:\n",
        "        x (np.array): Input features.\n",
        "        y (np.array): Target values.\n",
        "        experiment_parameters (dict): Dictionary of experiment parameters.\n",
        "                                       Keys are experiment names/descriptions,\n",
        "                                       values are dictionaries with 'iterations' and 'learning_rate'.\n",
        "\n",
        "    Returns:\n",
        "        dict: A dictionary where keys are experiment names and values are\n",
        "              lists of cost history from each experiment.\n",
        "    \"\"\"\n",
        "    all_cost_histories = {}\n",
        "    for exp_name, params in experiment_parameters.items():\n",
        "        print(f\"\\nRunning experiment: {exp_name} with iterations={params['iterations']} and learning_rate={params['learning_rate']}\")\n",
        "        # Temporarily override iterations and learning_rate within the function\n",
        "        original_iterations = 100 # Default from previous code\n",
        "        original_learning_rate = 0.08 # Default from previous code\n",
        "\n",
        "        # Modify the function's internal variables (this is a less ideal approach\n",
        "        # for real code, but works for demonstration given the function structure)\n",
        "        # A better approach would be to modify the gradient_descent function\n",
        "        # to accept iterations and learning_rate as arguments.\n",
        "        # For this task, we'll modify the function definition within the loop for simplicity\n",
        "        # based on the current constraints.\n",
        "\n",
        "        def gradient_descent_modified(x, y, iterations, learning_rate):\n",
        "            m_curr = b_curr = 0\n",
        "            n = len(x)\n",
        "            cost_history = []\n",
        "\n",
        "            for i in range(iterations):\n",
        "                y_predicted = m_curr * x + b_curr\n",
        "                cost = (1/n) * sum([val**2 for val in (y-y_predicted)])\n",
        "                cost_history.append(cost)\n",
        "                md = -(2/n)*sum(x*(y-y_predicted))\n",
        "                bd = -(2/n)*sum(y-y_predicted)\n",
        "                m_curr = m_curr - learning_rate * md\n",
        "                b_curr = b_curr - learning_rate * bd\n",
        "                # print (\"m {}, b {}, cost {} iteration {}\".format(m_curr,b_curr,cost, i)) # Suppress verbose printing\n",
        "\n",
        "            return cost_history\n",
        "\n",
        "        cost_history = gradient_descent_modified(x, y, params['iterations'], params['learning_rate'])\n",
        "        all_cost_histories[exp_name] = cost_history\n",
        "\n",
        "    return all_cost_histories\n",
        "\n",
        "# Define input arrays\n",
        "x = np.array([1,2,3,4,5])\n",
        "y = np.array([5,7,9,11,13])\n",
        "\n",
        "# Create a dictionary of experiment parameters\n",
        "experiment_parameters = {\n",
        "    'Exp 1: 100 iter, 0.08 lr': {'iterations': 100, 'learning_rate': 0.08},\n",
        "    'Exp 2: 200 iter, 0.05 lr': {'iterations': 200, 'learning_rate': 0.05},\n",
        "    'Exp 3: 50 iter, 0.1 lr': {'iterations': 50, 'learning_rate': 0.1},\n",
        "    'Exp 4: 100 iter, 0.01 lr': {'iterations': 100, 'learning_rate': 0.01}\n",
        "}\n",
        "\n",
        "# Run the experiments\n",
        "all_cost_histories = run_gradient_descent_experiments(x, y, experiment_parameters)\n",
        "\n",
        "# The all_cost_histories dictionary now contains the cost history for each experiment.\n",
        "# You can now analyze or visualize this data in subsequent steps.\n",
        "print(\"\\nFinished running experiments. Cost histories stored in 'all_cost_histories'.\")\n",
        "# display(all_cost_histories) # Optional: display the collected data structure"
      ],
      "execution_count": 10,
      "outputs": [
        {
          "output_type": "stream",
          "name": "stdout",
          "text": [
            "\n",
            "Running experiment: Exp 1: 100 iter, 0.08 lr with iterations=100 and learning_rate=0.08\n",
            "\n",
            "Running experiment: Exp 2: 200 iter, 0.05 lr with iterations=200 and learning_rate=0.05\n",
            "\n",
            "Running experiment: Exp 3: 50 iter, 0.1 lr with iterations=50 and learning_rate=0.1\n",
            "\n",
            "Running experiment: Exp 4: 100 iter, 0.01 lr with iterations=100 and learning_rate=0.01\n",
            "\n",
            "Finished running experiments. Cost histories stored in 'all_cost_histories'.\n"
          ]
        }
      ]
    },
    {
      "cell_type": "code",
      "metadata": {
        "colab": {
          "base_uri": "https://localhost:8080/",
          "height": 564
        },
        "id": "3e6af616",
        "outputId": "e2f2db1d-e7cb-4540-e4f2-efee904c3edb"
      },
      "source": [
        "import matplotlib.pyplot as plt\n",
        "\n",
        "# Plot 1: Converging Experiments (Excluding Exp 3)\n",
        "plt.figure(figsize=(10, 6))\n",
        "\n",
        "experiments_to_plot_converging = {\n",
        "    name: history for name, history in all_cost_histories.items()\n",
        "    if name != 'Exp 3: 50 iter, 0.1 lr'\n",
        "}\n",
        "\n",
        "for exp_name, cost_list in experiments_to_plot_converging.items():\n",
        "    plt.plot(range(len(cost_list)), cost_list, label=exp_name)\n",
        "\n",
        "plt.title(\"Cost vs. Iterations for Converging Experiments\")\n",
        "plt.xlabel(\"Iteration\")\n",
        "plt.ylabel(\"Cost\")\n",
        "plt.legend()\n",
        "plt.grid(True)\n",
        "plt.show()"
      ],
      "execution_count": 14,
      "outputs": [
        {
          "output_type": "display_data",
          "data": {
            "text/plain": [
              "<Figure size 1000x600 with 1 Axes>"
            ],
            "image/png": "[encoded data removed]"
          },
          "metadata": {}
        }
      ]
    },
    {
      "cell_type": "code",
      "metadata": {
        "colab": {
          "base_uri": "https://localhost:8080/",
          "height": 564
        },
        "id": "fc71ca4b",
        "outputId": "1191d9cf-d51f-47bf-d91b-a481639cc579"
      },
      "source": [
        "import matplotlib.pyplot as plt\n",
        "\n",
        "# Plot 2: All Experiments (Including Exp 3)\n",
        "plt.figure(figsize=(10, 6))\n",
        "\n",
        "experiments_to_plot_all = all_cost_histories\n",
        "\n",
        "for exp_name, cost_list in experiments_to_plot_all.items():\n",
        "    plt.plot(range(len(cost_list)), cost_list, label=exp_name)\n",
        "\n",
        "plt.title(\"Cost vs. Iterations for All Experiments\")\n",
        "plt.xlabel(\"Iteration\")\n",
        "plt.ylabel(\"Cost\")\n",
        "plt.legend()\n",
        "plt.grid(True)\n",
        "plt.show()"
      ],
      "execution_count": 15,
      "outputs": [
        {
          "output_type": "display_data",
          "data": {
            "text/plain": [
              "<Figure size 1000x600 with 1 Axes>"
            ],
            "image/png": "[encoded data removed]"
          },
          "metadata": {}
        }
      ]
    },
    {
      "cell_type": "markdown",
      "metadata": {
        "id": "875555be"
      },
      "source": [
        "## Summary:\n",
        "\n",
        "### Data Analysis Key Findings\n",
        "\n",
        "* The `gradient_descent` function was successfully modified to return a list of cost values calculated at each iteration.\n",
        "* Running gradient descent with a high learning rate (0.1) for 50 iterations resulted in the cost diverging (increasing significantly).\n",
        "* Using a low learning rate (0.01) for 100 iterations showed slow convergence, with the cost decreasing much slower than with higher learning rates.\n",
        "* Experiments with learning rates of 0.08 (100 iterations) and 0.05 (200 iterations) demonstrated steady convergence towards a lower cost.\n",
        "* Increasing the number of iterations from 100 to 200 with a slightly lower learning rate (0.05 vs 0.08) resulted in the cost continuing to decrease, suggesting that 100 iterations might not have fully converged in the other experiments.\n",
        "* The plot visually confirms that both the learning rate and the number of iterations significantly impact the speed and success of gradient descent convergence.\n",
        "\n",
        "### Insights or Next Steps\n",
        "\n",
        "* The visualization highlights the importance of hyperparameter tuning for `learning_rate` and `iterations` in gradient descent. Further analysis could involve systematically exploring a wider range of these parameters to find the optimal combination for this specific dataset.\n",
        "* Consider implementing techniques like learning rate decay or using adaptive learning rate algorithms to potentially improve convergence speed and stability, especially for more complex problems."
      ]
    }
  ],
  "metadata": {
    "kernelspec": {
      "display_name": "Python 3",
      "language": "python",
      "name": "python3"
    },
    "language_info": {
      "codemirror_mode": {
        "name": "ipython",
        "version": 3
      },
      "file_extension": ".py",
      "mimetype": "text/x-python",
      "name": "python",
      "nbconvert_exporter": "python",
      "pygments_lexer": "ipython3",
      "version": "3.7.6"
    },
    "colab": {
      "provenance": [],
      "include_colab_link": true
    }
  },
  "nbformat": 4,
  "nbformat_minor": 0
}
