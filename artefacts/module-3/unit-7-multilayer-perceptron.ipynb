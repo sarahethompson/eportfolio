{
  "cells": [
    {
      "cell_type": "markdown",
      "metadata": {
        "id": "view-in-github",
        "colab_type": "text"
      },
      "source": [
        "<a href=\"https://colab.research.google.com/github/sarahethompson/eportfolio/blob/main/artefacts/module-3/unit-7-multi-layer-perceptron.ipynb\" target=\"_parent\"><img src=\"https://colab.research.google.com/assets/colab-badge.svg\" alt=\"Open In Colab\"/></a>"
      ]
    },
    {
      "cell_type": "markdown",
      "metadata": {
        "id": "jyQMe1vRHBTn"
      },
      "source": [
        "### Author: Dr Mike Lakoju"
      ]
    },
    {
      "cell_type": "markdown",
      "metadata": {
        "id": "cbmd3Qv0HBTo"
      },
      "source": [
        "    * If X is high, the value is approximately 1\n",
        "    * if X is small, the value is approximately 0"
      ]
    },
    {
      "cell_type": "markdown",
      "metadata": {
        "id": "hPOuvHUXHBTo"
      },
      "source": [
        "## Import Libraries"
      ]
    },
    {
      "cell_type": "code",
      "execution_count": 1,
      "metadata": {
        "id": "UkzOJhF3HBTo"
      },
      "outputs": [],
      "source": [
        "import numpy as np"
      ]
    },
    {
      "cell_type": "markdown",
      "metadata": {
        "id": "Z1Xs4-fTHBTo"
      },
      "source": [
        "## Define the Sigmoid Function"
      ]
    },
    {
      "cell_type": "code",
      "execution_count": 2,
      "metadata": {
        "id": "6XxkolxYHBTo"
      },
      "outputs": [],
      "source": [
        "def sigmoid(sum_func):\n",
        "  return 1 / (1 + np.exp(-sum_func))"
      ]
    },
    {
      "cell_type": "markdown",
      "source": [
        "**The sigmoid function is a common activation function used in neural networks. It squashes the input value sum_func into a range between 0 and 1. The formula used is $1 / (1 + e^{-sum\\_func})$$1 / (1 + e^{-sum\\_func})$, where 'e' is Euler's number (the base of the natural logarithm). This function helps introduce non-linearity into the neural network, allowing it to learn complex patter**"
      ],
      "metadata": {
        "id": "OhM9l4leaPmY"
      }
    },
    {
      "cell_type": "code",
      "execution_count": 3,
      "metadata": {
        "colab": {
          "base_uri": "https://localhost:8080/"
        },
        "id": "zsSESTOeHBTo",
        "outputId": "4aff41d5-41b4-4a2c-c429-748b254efb9d"
      },
      "outputs": [
        {
          "output_type": "execute_result",
          "data": {
            "text/plain": [
              "np.float64(0.5)"
            ]
          },
          "metadata": {},
          "execution_count": 3
        }
      ],
      "source": [
        "sigmoid(0)"
      ]
    },
    {
      "cell_type": "code",
      "execution_count": 4,
      "metadata": {
        "colab": {
          "base_uri": "https://localhost:8080/"
        },
        "id": "vpEWWgT-HBTo",
        "outputId": "9fb8ca84-0e49-4bc3-c373-9987c7d9bccc"
      },
      "outputs": [
        {
          "output_type": "execute_result",
          "data": {
            "text/plain": [
              "np.float64(7.38905609893065)"
            ]
          },
          "metadata": {},
          "execution_count": 4
        }
      ],
      "source": [
        "np.exp(2)"
      ]
    },
    {
      "cell_type": "code",
      "execution_count": 5,
      "metadata": {
        "colab": {
          "base_uri": "https://localhost:8080/"
        },
        "id": "yDrzCwHNHBTp",
        "outputId": "388e7a4d-31eb-47b9-d58d-4aeca9911cd4"
      },
      "outputs": [
        {
          "output_type": "execute_result",
          "data": {
            "text/plain": [
              "np.float64(2.718281828459045)"
            ]
          },
          "metadata": {},
          "execution_count": 5
        }
      ],
      "source": [
        "np.exp(1)"
      ]
    },
    {
      "cell_type": "code",
      "execution_count": 8,
      "metadata": {
        "colab": {
          "base_uri": "https://localhost:8080/"
        },
        "id": "N1SdxO8yHBTp",
        "outputId": "a662b980-5db4-4921-c68b-0a279692173f"
      },
      "outputs": [
        {
          "output_type": "execute_result",
          "data": {
            "text/plain": [
              "np.float64(1.0)"
            ]
          },
          "metadata": {},
          "execution_count": 8
        }
      ],
      "source": [
        "sigmoid(400)"
      ]
    },
    {
      "cell_type": "code",
      "execution_count": 7,
      "metadata": {
        "colab": {
          "base_uri": "https://localhost:8080/"
        },
        "id": "D63QY7ZVHBTp",
        "outputId": "e4986522-2662-46b0-b18d-575dc6f7aeb5"
      },
      "outputs": [
        {
          "output_type": "execute_result",
          "data": {
            "text/plain": [
              "np.float64(1.2501528648238605e-09)"
            ]
          },
          "metadata": {},
          "execution_count": 7
        }
      ],
      "source": [
        "sigmoid(-20.5)"
      ]
    },
    {
      "cell_type": "markdown",
      "source": [],
      "metadata": {
        "id": "9wrzuQws3BjI"
      }
    },
    {
      "cell_type": "markdown",
      "metadata": {
        "id": "0M1P09l0HBTp"
      },
      "source": [
        "# Input Layer to Hidden Layer"
      ]
    },
    {
      "cell_type": "markdown",
      "source": [
        "![image.png](data:image/png;base64,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)"
      ],
      "metadata": {
        "id": "de11IX3L29xi"
      }
    },
    {
      "cell_type": "markdown",
      "metadata": {
        "id": "BbZl8vCWHBTp"
      },
      "source": [
        "### Define \"Inputs, outputs and weights\" as Numpy arrays"
      ]
    },
    {
      "cell_type": "markdown",
      "metadata": {
        "id": "-jRbznlGHBTp"
      },
      "source": [
        "#### Inputs"
      ]
    },
    {
      "cell_type": "code",
      "execution_count": 9,
      "metadata": {
        "id": "UOzCbmWlHBTp"
      },
      "outputs": [],
      "source": [
        "inputs = np.array([[0,0],\n",
        "                   [0,1],\n",
        "                   [1,0],\n",
        "                   [1,1]])"
      ]
    },
    {
      "cell_type": "code",
      "execution_count": 10,
      "metadata": {
        "colab": {
          "base_uri": "https://localhost:8080/"
        },
        "id": "1rsYejF6HBTp",
        "outputId": "9a662f0b-85cd-44e3-f67a-1ac675d9d2cb"
      },
      "outputs": [
        {
          "output_type": "execute_result",
          "data": {
            "text/plain": [
              "array([[0, 0],\n",
              "       [0, 1],\n",
              "       [1, 0],\n",
              "       [1, 1]])"
            ]
          },
          "metadata": {},
          "execution_count": 10
        }
      ],
      "source": [
        "inputs"
      ]
    },
    {
      "cell_type": "code",
      "execution_count": 11,
      "metadata": {
        "colab": {
          "base_uri": "https://localhost:8080/"
        },
        "id": "DeEbSIgOHBTp",
        "outputId": "0be8554c-ff8c-4685-b692-07c773903caf"
      },
      "outputs": [
        {
          "output_type": "execute_result",
          "data": {
            "text/plain": [
              "(4, 2)"
            ]
          },
          "metadata": {},
          "execution_count": 11
        }
      ],
      "source": [
        "inputs.shape"
      ]
    },
    {
      "cell_type": "markdown",
      "metadata": {
        "id": "u5-9NT5tHBTp"
      },
      "source": [
        "#### Outputs"
      ]
    },
    {
      "cell_type": "code",
      "execution_count": 12,
      "metadata": {
        "id": "JKvzeyd7HBTp"
      },
      "outputs": [],
      "source": [
        "outputs = np.array([[0],\n",
        "                    [1],\n",
        "                    [1],\n",
        "                    [0]])"
      ]
    },
    {
      "cell_type": "code",
      "execution_count": null,
      "metadata": {
        "id": "zgR9JcTyHBTp",
        "outputId": "26e77708-c268-4dd7-b42f-c335e7bad1dd"
      },
      "outputs": [
        {
          "data": {
            "text/plain": [
              "(4, 1)"
            ]
          },
          "execution_count": 13,
          "metadata": {},
          "output_type": "execute_result"
        }
      ],
      "source": [
        "outputs.shape"
      ]
    },
    {
      "cell_type": "markdown",
      "metadata": {
        "id": "Nmd0TMuJHBTp"
      },
      "source": [
        "### Weights"
      ]
    },
    {
      "cell_type": "markdown",
      "metadata": {
        "id": "fH_IySXUHBTp"
      },
      "source": [
        "#### These weights are for the connection between the inputs and the hidden layer"
      ]
    },
    {
      "cell_type": "code",
      "execution_count": 13,
      "metadata": {
        "colab": {
          "base_uri": "https://localhost:8080/"
        },
        "id": "2fwYCfWDHBTp",
        "outputId": "c14187e9-cbd7-4dd5-ee97-f9449e0881b8"
      },
      "outputs": [
        {
          "output_type": "execute_result",
          "data": {
            "text/plain": [
              "(2, 3)"
            ]
          },
          "metadata": {},
          "execution_count": 13
        }
      ],
      "source": [
        "# First row holds the weights for x1, 2nd row contains the weights for x2\n",
        "\n",
        "weights_0 = np.array([[-0.424, -0.740, -0.961],\n",
        "                     [0.358, -0.577, -0.469]])\n",
        "weights_0.shape"
      ]
    },
    {
      "cell_type": "markdown",
      "metadata": {
        "id": "ZgQZN3RFHBTq"
      },
      "source": [
        "#### These weights are for the connection between the  hidden layer and the output"
      ]
    },
    {
      "cell_type": "code",
      "execution_count": 14,
      "metadata": {
        "colab": {
          "base_uri": "https://localhost:8080/"
        },
        "id": "w7L5LqM2HBTq",
        "outputId": "b4641900-4957-4217-fcb9-137eba7af281"
      },
      "outputs": [
        {
          "output_type": "execute_result",
          "data": {
            "text/plain": [
              "(3, 1)"
            ]
          },
          "metadata": {},
          "execution_count": 14
        }
      ],
      "source": [
        "weights_1 = np.array([[-0.017],\n",
        "                     [-0.893],\n",
        "                     [0.148]])\n",
        "weights_1.shape"
      ]
    },
    {
      "cell_type": "markdown",
      "metadata": {
        "id": "KurZ6t3IHBTq"
      },
      "source": [
        "#### Epochs & Learning Rate"
      ]
    },
    {
      "cell_type": "code",
      "execution_count": 15,
      "metadata": {
        "id": "82khEgq0HBTq"
      },
      "outputs": [],
      "source": [
        "epochs = 100\n",
        "learning_rate = 0.3"
      ]
    },
    {
      "cell_type": "code",
      "source": [],
      "metadata": {
        "id": "Hl-tIGz015Y4"
      },
      "execution_count": null,
      "outputs": []
    },
    {
      "cell_type": "code",
      "execution_count": 16,
      "metadata": {
        "id": "Plc__VGMHBTq"
      },
      "outputs": [],
      "source": [
        "#for epoch in epochs:"
      ]
    },
    {
      "cell_type": "markdown",
      "metadata": {
        "id": "9CfXdezCHBTq"
      },
      "source": [
        "Dealing with the first side"
      ]
    },
    {
      "cell_type": "markdown",
      "source": [
        "![image.png](data:image/png;base64,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)"
      ],
      "metadata": {
        "id": "ZNMcyTOu1iVV"
      }
    },
    {
      "cell_type": "code",
      "execution_count": 17,
      "metadata": {
        "colab": {
          "base_uri": "https://localhost:8080/"
        },
        "id": "YETX42pHHBTq",
        "outputId": "581f0d7f-2f8d-4252-9389-b8a656462fa5"
      },
      "outputs": [
        {
          "output_type": "execute_result",
          "data": {
            "text/plain": [
              "array([[0, 0],\n",
              "       [0, 1],\n",
              "       [1, 0],\n",
              "       [1, 1]])"
            ]
          },
          "metadata": {},
          "execution_count": 17
        }
      ],
      "source": [
        "input_layer = inputs\n",
        "input_layer"
      ]
    },
    {
      "cell_type": "code",
      "execution_count": 18,
      "metadata": {
        "colab": {
          "base_uri": "https://localhost:8080/"
        },
        "id": "X_7AoEd_HBTq",
        "outputId": "be2deea8-769b-454b-9514-6523d6cc2ab8"
      },
      "outputs": [
        {
          "output_type": "execute_result",
          "data": {
            "text/plain": [
              "array([[ 0.   ,  0.   ,  0.   ],\n",
              "       [ 0.358, -0.577, -0.469],\n",
              "       [-0.424, -0.74 , -0.961],\n",
              "       [-0.066, -1.317, -1.43 ]])"
            ]
          },
          "metadata": {},
          "execution_count": 18
        }
      ],
      "source": [
        "# \"sum_synapse_0\" This holds the sum function total of weights for the hidden layer\n",
        "# For the Output: Each row holds the sum_func for each input data  [0,0,0 -> data 0,0],[0.358, -0.577, -0.469 --> 0,1]\n",
        "# The dot product does the matrix multiplication and also the sum\n",
        "\n",
        "sum_synapse_0 = np.dot(input_layer, weights_0)\n",
        "sum_synapse_0"
      ]
    },
    {
      "cell_type": "code",
      "execution_count": 19,
      "metadata": {
        "colab": {
          "base_uri": "https://localhost:8080/"
        },
        "id": "ZJsKRLG7HBTq",
        "outputId": "e7bcce48-d573-4226-feb8-38d0369e2eae"
      },
      "outputs": [
        {
          "output_type": "execute_result",
          "data": {
            "text/plain": [
              "array([[0.5       , 0.5       , 0.5       ],\n",
              "       [0.5885562 , 0.35962319, 0.38485296],\n",
              "       [0.39555998, 0.32300414, 0.27667802],\n",
              "       [0.48350599, 0.21131785, 0.19309868]])"
            ]
          },
          "metadata": {},
          "execution_count": 19
        }
      ],
      "source": [
        "# Computing the Sigmoid function for the Hidden layer\n",
        "\n",
        "hidden_layer = sigmoid(sum_synapse_0)\n",
        "hidden_layer"
      ]
    },
    {
      "cell_type": "markdown",
      "metadata": {
        "id": "88q10_inHBTq"
      },
      "source": [
        "Dealing with the 2nd side\n"
      ]
    },
    {
      "cell_type": "markdown",
      "source": [
        "![image.png](data:image/png;base64,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)"
      ],
      "metadata": {
        "id": "6PYmhxA-3O3m"
      }
    },
    {
      "cell_type": "markdown",
      "source": [],
      "metadata": {
        "id": "ElH6cZmp19c7"
      }
    },
    {
      "cell_type": "code",
      "execution_count": 20,
      "metadata": {
        "colab": {
          "base_uri": "https://localhost:8080/"
        },
        "id": "DD-OCcXkHBTq",
        "outputId": "d9af9bcd-e9a0-4a5e-e300-4d9d4430a704"
      },
      "outputs": [
        {
          "output_type": "execute_result",
          "data": {
            "text/plain": [
              "array([[-0.017],\n",
              "       [-0.893],\n",
              "       [ 0.148]])"
            ]
          },
          "metadata": {},
          "execution_count": 20
        }
      ],
      "source": [
        "weights_1"
      ]
    },
    {
      "cell_type": "code",
      "execution_count": 21,
      "metadata": {
        "colab": {
          "base_uri": "https://localhost:8080/"
        },
        "id": "ekAYVRhSHBTq",
        "outputId": "13752406-31e3-466e-adfa-6ad65d6abc25"
      },
      "outputs": [
        {
          "output_type": "execute_result",
          "data": {
            "text/plain": [
              "array([[-0.381     ],\n",
              "       [-0.27419072],\n",
              "       [-0.25421887],\n",
              "       [-0.16834784]])"
            ]
          },
          "metadata": {},
          "execution_count": 21
        }
      ],
      "source": [
        "# \"sum_synapse_1\" This holds the sum function total of weights for the output layer\n",
        "# For the Output: Each row holds the sum_func for each input data\n",
        "\n",
        "sum_synapse_1 = np.dot(hidden_layer, weights_1)\n",
        "sum_synapse_1"
      ]
    },
    {
      "cell_type": "code",
      "execution_count": 22,
      "metadata": {
        "colab": {
          "base_uri": "https://localhost:8080/"
        },
        "id": "0Ffq3p56HBTq",
        "outputId": "1eb95b7d-f894-4ab8-f0a9-0cbcd8558767"
      },
      "outputs": [
        {
          "output_type": "execute_result",
          "data": {
            "text/plain": [
              "array([[0.40588573],\n",
              "       [0.43187857],\n",
              "       [0.43678536],\n",
              "       [0.45801216]])"
            ]
          },
          "metadata": {},
          "execution_count": 22
        }
      ],
      "source": [
        "output_layer = sigmoid(sum_synapse_1)\n",
        "output_layer"
      ]
    },
    {
      "cell_type": "code",
      "execution_count": 23,
      "metadata": {
        "colab": {
          "base_uri": "https://localhost:8080/"
        },
        "id": "yOEwWpegHBTr",
        "outputId": "862cb55c-a258-48eb-cd00-fa6b0d0afbb4"
      },
      "outputs": [
        {
          "output_type": "execute_result",
          "data": {
            "text/plain": [
              "array([[0],\n",
              "       [1],\n",
              "       [1],\n",
              "       [0]])"
            ]
          },
          "metadata": {},
          "execution_count": 23
        }
      ],
      "source": [
        "outputs"
      ]
    },
    {
      "cell_type": "code",
      "execution_count": 24,
      "metadata": {
        "colab": {
          "base_uri": "https://localhost:8080/"
        },
        "id": "L-JVOnfcHBTr",
        "outputId": "4edc9836-db6a-42fd-9c0f-971eb52e2b8e"
      },
      "outputs": [
        {
          "output_type": "execute_result",
          "data": {
            "text/plain": [
              "array([[0.40588573],\n",
              "       [0.43187857],\n",
              "       [0.43678536],\n",
              "       [0.45801216]])"
            ]
          },
          "metadata": {},
          "execution_count": 24
        }
      ],
      "source": [
        "output_layer"
      ]
    },
    {
      "cell_type": "code",
      "execution_count": 25,
      "metadata": {
        "colab": {
          "base_uri": "https://localhost:8080/"
        },
        "id": "ALqER5ZsHBTr",
        "outputId": "f59a5bd9-c76f-4a74-8d89-e7d74245d6b8"
      },
      "outputs": [
        {
          "output_type": "execute_result",
          "data": {
            "text/plain": [
              "array([[-0.40588573],\n",
              "       [ 0.56812143],\n",
              "       [ 0.56321464],\n",
              "       [-0.45801216]])"
            ]
          },
          "metadata": {},
          "execution_count": 25
        }
      ],
      "source": [
        "error_output_layer = outputs - output_layer\n",
        "error_output_layer"
      ]
    },
    {
      "cell_type": "code",
      "execution_count": 26,
      "metadata": {
        "colab": {
          "base_uri": "https://localhost:8080/"
        },
        "id": "5KNhtqp4HBTr",
        "outputId": "f6ba8a44-18cf-44d3-ec7f-f5584f4aa5dd"
      },
      "outputs": [
        {
          "output_type": "execute_result",
          "data": {
            "text/plain": [
              "np.float64(0.49880848923713045)"
            ]
          },
          "metadata": {},
          "execution_count": 26
        }
      ],
      "source": [
        "average_error = np.mean(abs(error_output_layer))\n",
        "average_error"
      ]
    },
    {
      "cell_type": "markdown",
      "metadata": {
        "id": "EfqgG19aHBTr"
      },
      "source": [
        "Sigmoid Derivative\n"
      ]
    },
    {
      "cell_type": "code",
      "execution_count": 27,
      "metadata": {
        "id": "JecnkfpXHBTr"
      },
      "outputs": [],
      "source": [
        "def sigmoid_derivative(sigmoid):\n",
        "    return sigmoid * (1 - sigmoid)"
      ]
    },
    {
      "cell_type": "markdown",
      "metadata": {
        "id": "Lgo5KjD_HBTr"
      },
      "source": [
        "# Delta output Calculation"
      ]
    },
    {
      "cell_type": "code",
      "execution_count": 28,
      "metadata": {
        "colab": {
          "base_uri": "https://localhost:8080/"
        },
        "id": "o5WWTLGeHBTr",
        "outputId": "7abae617-b58f-4f1d-9121-955bb4934a49"
      },
      "outputs": [
        {
          "output_type": "execute_result",
          "data": {
            "text/plain": [
              "array([[0.40588573],\n",
              "       [0.43187857],\n",
              "       [0.43678536],\n",
              "       [0.45801216]])"
            ]
          },
          "metadata": {},
          "execution_count": 28
        }
      ],
      "source": [
        "# output_layer holds the results of our application of the sigmoid, computed above\n",
        "\n",
        "output_layer"
      ]
    },
    {
      "cell_type": "code",
      "execution_count": 29,
      "metadata": {
        "colab": {
          "base_uri": "https://localhost:8080/"
        },
        "id": "L9DHXKN3HBTr",
        "outputId": "1125cbe5-1c74-4ec9-de4c-5d5a4bb32bad"
      },
      "outputs": [
        {
          "output_type": "execute_result",
          "data": {
            "text/plain": [
              "array([[0.2411425 ],\n",
              "       [0.24535947],\n",
              "       [0.24600391],\n",
              "       [0.24823702]])"
            ]
          },
          "metadata": {},
          "execution_count": 29
        }
      ],
      "source": [
        "# derivative_output is our Derivative of the activation function (sigmoid) which we have on the slide\n",
        "# each row is for each instance of our input dataset\n",
        "\n",
        "derivative_output = sigmoid_derivative(output_layer)\n",
        "derivative_output"
      ]
    },
    {
      "cell_type": "code",
      "execution_count": 30,
      "metadata": {
        "colab": {
          "base_uri": "https://localhost:8080/"
        },
        "id": "y597ImSGHBTr",
        "outputId": "1b3dc684-f548-4e0b-ffeb-c158d1b7468a"
      },
      "outputs": [
        {
          "output_type": "execute_result",
          "data": {
            "text/plain": [
              "array([[-0.40588573],\n",
              "       [ 0.56812143],\n",
              "       [ 0.56321464],\n",
              "       [-0.45801216]])"
            ]
          },
          "metadata": {},
          "execution_count": 30
        }
      ],
      "source": [
        "error_output_layer"
      ]
    },
    {
      "cell_type": "code",
      "execution_count": 31,
      "metadata": {
        "colab": {
          "base_uri": "https://localhost:8080/"
        },
        "id": "_Uyd3m72HBTr",
        "outputId": "ea9c165c-4b26-454d-9b6c-3161d79050cf"
      },
      "outputs": [
        {
          "output_type": "execute_result",
          "data": {
            "text/plain": [
              "array([[-0.0978763 ],\n",
              "       [ 0.13939397],\n",
              "       [ 0.138553  ],\n",
              "       [-0.11369557]])"
            ]
          },
          "metadata": {},
          "execution_count": 31
        }
      ],
      "source": [
        "# Delta output\n",
        "# each row is for each instance of our input dataset\n",
        "\n",
        "delta_output = error_output_layer * derivative_output\n",
        "delta_output"
      ]
    },
    {
      "cell_type": "markdown",
      "metadata": {
        "id": "OY4xobQsHBTr"
      },
      "source": [
        "# Delta calculations for the Hidden Layer"
      ]
    },
    {
      "cell_type": "code",
      "execution_count": 32,
      "metadata": {
        "colab": {
          "base_uri": "https://localhost:8080/"
        },
        "id": "lIy8Uy_HHBTr",
        "outputId": "1200b24b-69f8-41a9-ca32-801e372bb9f5"
      },
      "outputs": [
        {
          "output_type": "execute_result",
          "data": {
            "text/plain": [
              "array([[-0.0978763 ],\n",
              "       [ 0.13939397],\n",
              "       [ 0.138553  ],\n",
              "       [-0.11369557]])"
            ]
          },
          "metadata": {},
          "execution_count": 32
        }
      ],
      "source": [
        "delta_output"
      ]
    },
    {
      "cell_type": "code",
      "execution_count": 33,
      "metadata": {
        "colab": {
          "base_uri": "https://localhost:8080/"
        },
        "id": "BM28uIoxHBTr",
        "outputId": "7445c667-dce3-441b-ba29-b347137e0d89"
      },
      "outputs": [
        {
          "output_type": "execute_result",
          "data": {
            "text/plain": [
              "array([[-0.017],\n",
              "       [-0.893],\n",
              "       [ 0.148]])"
            ]
          },
          "metadata": {},
          "execution_count": 33
        }
      ],
      "source": [
        "weights_1"
      ]
    },
    {
      "cell_type": "markdown",
      "metadata": {
        "id": "eItwwvOXHBTr"
      },
      "source": [
        "#### NOTE THAT:\n",
        "    * Lets deal with this part first (Weight  * delta_output)\n",
        "    * Notice that we will get an error below becuase of the shape of the weights_1  (Transpose)"
      ]
    },
    {
      "cell_type": "code",
      "execution_count": 35,
      "metadata": {
        "id": "XNdp6kA6HBTr"
      },
      "outputs": [],
      "source": [
        "delta_output_x_weight = delta_output.dot(weights_1.T)"
      ]
    },
    {
      "cell_type": "code",
      "execution_count": null,
      "metadata": {
        "id": "1ITnIXGIHBTr",
        "outputId": "b7572807-a634-4815-e244-be3b485e4008"
      },
      "outputs": [
        {
          "data": {
            "text/plain": [
              "(3, 1)"
            ]
          },
          "execution_count": 36,
          "metadata": {},
          "output_type": "execute_result"
        }
      ],
      "source": [
        "weights_1.shape"
      ]
    },
    {
      "cell_type": "code",
      "execution_count": 36,
      "metadata": {
        "colab": {
          "base_uri": "https://localhost:8080/"
        },
        "id": "PBhsaYNSHBTr",
        "outputId": "3a853f02-b0b0-4950-dc9c-38cba817e3de"
      },
      "outputs": [
        {
          "output_type": "execute_result",
          "data": {
            "text/plain": [
              "array([[-0.017, -0.893,  0.148]])"
            ]
          },
          "metadata": {},
          "execution_count": 36
        }
      ],
      "source": [
        "weights_1T = weights_1.T\n",
        "weights_1T"
      ]
    },
    {
      "cell_type": "code",
      "execution_count": 37,
      "metadata": {
        "colab": {
          "base_uri": "https://localhost:8080/"
        },
        "id": "unVB0U32HBTr",
        "outputId": "3c168cb5-d6ba-4457-9dd0-14a4827280db"
      },
      "outputs": [
        {
          "output_type": "execute_result",
          "data": {
            "text/plain": [
              "(1, 3)"
            ]
          },
          "metadata": {},
          "execution_count": 37
        }
      ],
      "source": [
        "weights_1T.shape"
      ]
    },
    {
      "cell_type": "markdown",
      "metadata": {
        "id": "VzqNO-sMHBTr"
      },
      "source": [
        "#### Each one of the weights will have to be multiplied by each delta_output for each data instance     \n",
        "       \n",
        "       array([[-0.017],\n",
        "             [-0.893],\n",
        "             [ 0.148]])"
      ]
    },
    {
      "cell_type": "code",
      "execution_count": 38,
      "metadata": {
        "colab": {
          "base_uri": "https://localhost:8080/"
        },
        "id": "_A5UKk6dHBTs",
        "outputId": "006285d9-8b8e-4a06-bc30-b014db986e3d"
      },
      "outputs": [
        {
          "output_type": "execute_result",
          "data": {
            "text/plain": [
              "array([[ 0.0016639 ,  0.08740354, -0.01448569],\n",
              "       [-0.0023697 , -0.12447882,  0.02063031],\n",
              "       [-0.0023554 , -0.12372783,  0.02050584],\n",
              "       [ 0.00193282,  0.10153015, -0.01682694]])"
            ]
          },
          "metadata": {},
          "execution_count": 38
        }
      ],
      "source": [
        "delta_output_x_weight = delta_output.dot(weights_1T)\n",
        "delta_output_x_weight"
      ]
    },
    {
      "cell_type": "markdown",
      "metadata": {
        "id": "gDD1lgCRHBTs"
      },
      "source": [
        "#### NOTE THAT:\n",
        "    * Now we need to deal with the last part of the equation   \n",
        "    * sigmoid_derivative * delta_output_x_weight"
      ]
    },
    {
      "cell_type": "code",
      "execution_count": 39,
      "metadata": {
        "colab": {
          "base_uri": "https://localhost:8080/"
        },
        "id": "fGe-ZWMrHBTs",
        "outputId": "600d8eff-a930-4b9c-fa8b-efeae542358f"
      },
      "outputs": [
        {
          "output_type": "execute_result",
          "data": {
            "text/plain": [
              "array([[0.5       , 0.5       , 0.5       ],\n",
              "       [0.5885562 , 0.35962319, 0.38485296],\n",
              "       [0.39555998, 0.32300414, 0.27667802],\n",
              "       [0.48350599, 0.21131785, 0.19309868]])"
            ]
          },
          "metadata": {},
          "execution_count": 39
        }
      ],
      "source": [
        "hidden_layer"
      ]
    },
    {
      "cell_type": "code",
      "execution_count": 40,
      "metadata": {
        "colab": {
          "base_uri": "https://localhost:8080/"
        },
        "id": "SYcfSsDBHBTs",
        "outputId": "a99dc0c4-46f2-41df-a028-734122f5cc2f"
      },
      "outputs": [
        {
          "output_type": "execute_result",
          "data": {
            "text/plain": [
              "array([[ 0.00041597,  0.02185088, -0.00362142],\n",
              "       [-0.00057384, -0.02866677,  0.00488404],\n",
              "       [-0.00056316, -0.02705587,  0.00410378],\n",
              "       [ 0.00048268,  0.01692128, -0.00262183]])"
            ]
          },
          "metadata": {},
          "execution_count": 40
        }
      ],
      "source": [
        "#  Each row in the output of delta_hidden_layer is for the data input values\n",
        "\n",
        "delta_hidden_layer = delta_output_x_weight * sigmoid_derivative(hidden_layer)\n",
        "delta_hidden_layer"
      ]
    },
    {
      "cell_type": "markdown",
      "metadata": {
        "id": "PKKMuGBgHBTs"
      },
      "source": [
        "#### We will deal with the (input * delta) first\n",
        "* The first column in \"hidden_layer\" holds  the activation value for the first neuron"
      ]
    },
    {
      "cell_type": "code",
      "execution_count": 41,
      "metadata": {
        "colab": {
          "base_uri": "https://localhost:8080/"
        },
        "id": "3IPGa0n1HBTs",
        "outputId": "4e2d4b89-a3da-4265-9f84-25affc3457dd"
      },
      "outputs": [
        {
          "output_type": "execute_result",
          "data": {
            "text/plain": [
              "array([[0.5       , 0.5       , 0.5       ],\n",
              "       [0.5885562 , 0.35962319, 0.38485296],\n",
              "       [0.39555998, 0.32300414, 0.27667802],\n",
              "       [0.48350599, 0.21131785, 0.19309868]])"
            ]
          },
          "metadata": {},
          "execution_count": 41
        }
      ],
      "source": [
        "hidden_layer"
      ]
    },
    {
      "cell_type": "code",
      "execution_count": 42,
      "metadata": {
        "colab": {
          "base_uri": "https://localhost:8080/"
        },
        "id": "xQC6xyXyHBTs",
        "outputId": "7b14c36b-124c-4427-82df-467defbc7059"
      },
      "outputs": [
        {
          "output_type": "execute_result",
          "data": {
            "text/plain": [
              "array([[-0.0978763 ],\n",
              "       [ 0.13939397],\n",
              "       [ 0.138553  ],\n",
              "       [-0.11369557]])"
            ]
          },
          "metadata": {},
          "execution_count": 42
        }
      ],
      "source": [
        "delta_output"
      ]
    },
    {
      "cell_type": "markdown",
      "metadata": {
        "id": "dc-degnrHBTs"
      },
      "source": [
        "* We need to multiply the \"inputs\" by \"delta\" however, for the matrix multiplication we need to transpose the values in the hidden_layer, so we have all of them on one row for each neuron"
      ]
    },
    {
      "cell_type": "code",
      "execution_count": 43,
      "metadata": {
        "colab": {
          "base_uri": "https://localhost:8080/"
        },
        "id": "yARubdnjHBTs",
        "outputId": "6df01563-6e3c-4bd9-c6b1-958a967d9898"
      },
      "outputs": [
        {
          "output_type": "execute_result",
          "data": {
            "text/plain": [
              "array([[0.5       , 0.5885562 , 0.39555998, 0.48350599],\n",
              "       [0.5       , 0.35962319, 0.32300414, 0.21131785],\n",
              "       [0.5       , 0.38485296, 0.27667802, 0.19309868]])"
            ]
          },
          "metadata": {},
          "execution_count": 43
        }
      ],
      "source": [
        "hidden_layerT = hidden_layer.T\n",
        "hidden_layerT"
      ]
    },
    {
      "cell_type": "code",
      "execution_count": 44,
      "metadata": {
        "colab": {
          "base_uri": "https://localhost:8080/"
        },
        "id": "dH6hIW3fHBTs",
        "outputId": "45459616-2389-4cfd-d066-f0824c4b13d1"
      },
      "outputs": [
        {
          "output_type": "execute_result",
          "data": {
            "text/plain": [
              "array([[0.03293657],\n",
              "       [0.02191844],\n",
              "       [0.02108814]])"
            ]
          },
          "metadata": {},
          "execution_count": 44
        }
      ],
      "source": [
        "input_x_delta1 = hidden_layerT.dot(delta_output)\n",
        "input_x_delta1"
      ]
    },
    {
      "cell_type": "markdown",
      "metadata": {
        "id": "fn0VyUGxHBTs"
      },
      "source": [
        "#### Let us now update the \"weights_1\""
      ]
    },
    {
      "cell_type": "code",
      "execution_count": 45,
      "metadata": {
        "colab": {
          "base_uri": "https://localhost:8080/"
        },
        "id": "AJxS-MKeHBTs",
        "outputId": "2eb2fcb1-5e3b-480a-8f77-41ff498c8349"
      },
      "outputs": [
        {
          "output_type": "execute_result",
          "data": {
            "text/plain": [
              "array([[-0.00711903],\n",
              "       [-0.88642447],\n",
              "       [ 0.15432644]])"
            ]
          },
          "metadata": {},
          "execution_count": 45
        }
      ],
      "source": [
        "weights_1 = weights_1 + (input_x_delta1 * learning_rate)\n",
        "weights_1"
      ]
    },
    {
      "cell_type": "markdown",
      "metadata": {
        "id": "VIa3zlAUHBTs"
      },
      "source": [
        "## Dealing with the Hidden Layer to Input Layer\n"
      ]
    },
    {
      "cell_type": "code",
      "execution_count": 46,
      "metadata": {
        "colab": {
          "base_uri": "https://localhost:8080/"
        },
        "id": "kRYibuIlHBTs",
        "outputId": "2f7cbdcb-1721-4ebe-fd43-6fbb1e0baff7"
      },
      "outputs": [
        {
          "output_type": "execute_result",
          "data": {
            "text/plain": [
              "array([[0, 0],\n",
              "       [0, 1],\n",
              "       [1, 0],\n",
              "       [1, 1]])"
            ]
          },
          "metadata": {},
          "execution_count": 46
        }
      ],
      "source": [
        "# First column is X1, and 2nd column is X2 (our input values )\n",
        "\n",
        "input_layer"
      ]
    },
    {
      "cell_type": "code",
      "execution_count": 47,
      "metadata": {
        "colab": {
          "base_uri": "https://localhost:8080/"
        },
        "id": "98HvCNmcHBTs",
        "outputId": "0dee20cd-dfcc-4434-b62e-4c388dab141e"
      },
      "outputs": [
        {
          "output_type": "execute_result",
          "data": {
            "text/plain": [
              "array([[ 0.00041597,  0.02185088, -0.00362142],\n",
              "       [-0.00057384, -0.02866677,  0.00488404],\n",
              "       [-0.00056316, -0.02705587,  0.00410378],\n",
              "       [ 0.00048268,  0.01692128, -0.00262183]])"
            ]
          },
          "metadata": {},
          "execution_count": 47
        }
      ],
      "source": [
        "delta_hidden_layer"
      ]
    },
    {
      "cell_type": "code",
      "execution_count": 48,
      "metadata": {
        "colab": {
          "base_uri": "https://localhost:8080/"
        },
        "id": "ShxKR9-qHBTs",
        "outputId": "e37fa2be-c222-4ef4-9fe4-0be2d35a6dad"
      },
      "outputs": [
        {
          "output_type": "execute_result",
          "data": {
            "text/plain": [
              "array([[0, 0, 1, 1],\n",
              "       [0, 1, 0, 1]])"
            ]
          },
          "metadata": {},
          "execution_count": 48
        }
      ],
      "source": [
        "# we need to transpose the values just as we did before\n",
        "\n",
        "input_layerT = input_layer.T\n",
        "input_layerT"
      ]
    },
    {
      "cell_type": "code",
      "execution_count": 49,
      "metadata": {
        "colab": {
          "base_uri": "https://localhost:8080/"
        },
        "id": "T9hL2CW3HBTs",
        "outputId": "b901e6f4-54e2-495c-bcdb-88471c8cbc89"
      },
      "outputs": [
        {
          "output_type": "execute_result",
          "data": {
            "text/plain": [
              "array([[-8.04778516e-05, -1.01345901e-02,  1.48194623e-03],\n",
              "       [-9.11603819e-05, -1.17454886e-02,  2.26221011e-03]])"
            ]
          },
          "metadata": {},
          "execution_count": 49
        }
      ],
      "source": [
        "input_x_delta0 = input_layerT.dot(delta_hidden_layer)\n",
        "input_x_delta0"
      ]
    },
    {
      "cell_type": "code",
      "execution_count": 50,
      "metadata": {
        "colab": {
          "base_uri": "https://localhost:8080/"
        },
        "id": "IwjEm9paHBTs",
        "outputId": "78d3c2cd-47a5-4672-ad7d-0e0283674a11"
      },
      "outputs": [
        {
          "output_type": "execute_result",
          "data": {
            "text/plain": [
              "array([[-0.42402414, -0.74304038, -0.96055542],\n",
              "       [ 0.35797265, -0.58052365, -0.46832134]])"
            ]
          },
          "metadata": {},
          "execution_count": 50
        }
      ],
      "source": [
        "weights_0 = weights_0 + (input_x_delta0 * learning_rate)\n",
        "weights_0"
      ]
    },
    {
      "cell_type": "markdown",
      "metadata": {
        "id": "6NQqsH1kHBTs"
      },
      "source": [
        "### So all the lines of code above, has allowed us to complete our first epoch. we will need to put all the code together so we can run multiple epochs"
      ]
    },
    {
      "cell_type": "markdown",
      "metadata": {
        "id": "gW9q1QDVHBTs"
      },
      "source": [
        "# Complete Artificial Neural Network"
      ]
    },
    {
      "cell_type": "code",
      "execution_count": 51,
      "metadata": {
        "id": "lj1tCczyHBTs"
      },
      "outputs": [],
      "source": [
        "#Importing Numpy\n",
        "import numpy as np\n",
        "\n",
        "# This is the sigmoid Function\n",
        "def sigmoid(sum):\n",
        "  return 1 / (1 + np.exp(-sum))\n",
        "\n",
        "#This is the sigmoid derivative as used before\n",
        "def sigmoid_derivative(sigmoid):\n",
        "  return sigmoid * (1 - sigmoid)\n",
        "\n",
        "# Our input values\n",
        "inputs = np.array([[0,0],\n",
        "                   [0,1],\n",
        "                   [1,0],\n",
        "                   [1,1]])\n",
        "#Our output values\n",
        "outputs = np.array([[0],\n",
        "                    [1],\n",
        "                    [1],\n",
        "                    [0]])"
      ]
    },
    {
      "cell_type": "code",
      "execution_count": 52,
      "metadata": {
        "id": "BtCVRYEKHBTt"
      },
      "outputs": [],
      "source": [
        "# weights_0 = np.array([[-0.424, -0.740, -0.961],\n",
        "#                     [0.358, -0.577, -0.469]])\n",
        "\n",
        "# weights_1 = np.array([[-0.017],\n",
        "#                     [-0.893],\n",
        "#                     [0.148]])"
      ]
    },
    {
      "cell_type": "markdown",
      "metadata": {
        "id": "DZeMt33KHBTt"
      },
      "source": [
        "### Initializing our weights with random values\n",
        "* <b>Note:</b> Multiplying the random number by 2 and subtracting by 1, allows us to have a mix of both positive and negative random numbers for the weights"
      ]
    },
    {
      "cell_type": "code",
      "execution_count": 53,
      "metadata": {
        "id": "VhaVJZ6-HBTt"
      },
      "outputs": [],
      "source": [
        "weights_0 = 2 * np.random.random((2, 3)) - 1\n",
        "weights_1 = 2 * np.random.random((3, 1)) - 1"
      ]
    },
    {
      "cell_type": "code",
      "execution_count": 55,
      "metadata": {
        "colab": {
          "base_uri": "https://localhost:8080/"
        },
        "id": "TTr4AZaGHBTt",
        "outputId": "8aba1480-b6d6-4f60-9fbc-f250d7e2edef"
      },
      "outputs": [
        {
          "output_type": "stream",
          "name": "stdout",
          "text": [
            "Epoch: 1 Error: 0.5010547071450848\n",
            "Epoch: 100001 Error: 0.007602289562301078\n",
            "Epoch: 200001 Error: 0.00532218105032497\n",
            "Epoch: 300001 Error: 0.004325519273883595\n"
          ]
        }
      ],
      "source": [
        "epochs = 400000\n",
        "learning_rate = 0.6\n",
        "error = []\n",
        "\n",
        "for epoch in range(epochs):\n",
        "  input_layer = inputs\n",
        "  sum_synapse0 = np.dot(input_layer, weights_0)\n",
        "  hidden_layer = sigmoid(sum_synapse0)\n",
        "\n",
        "  sum_synapse1 = np.dot(hidden_layer, weights_1)\n",
        "  output_layer = sigmoid(sum_synapse1)\n",
        "\n",
        "  error_output_layer = outputs - output_layer\n",
        "  average = np.mean(abs(error_output_layer))\n",
        "    #print after every specified range of the value\n",
        "  if epoch % 100000 == 0:\n",
        "    print('Epoch: ' + str(epoch + 1) + ' Error: ' + str(average))\n",
        "    error.append(average)\n",
        "\n",
        "  derivative_output = sigmoid_derivative(output_layer)\n",
        "  delta_output = error_output_layer * derivative_output\n",
        "\n",
        "  weights1T = weights_1.T\n",
        "  delta_output_weight = delta_output.dot(weights1T)\n",
        "  delta_hidden_layer = delta_output_weight * sigmoid_derivative(hidden_layer)\n",
        "\n",
        "  hidden_layerT = hidden_layer.T\n",
        "  input_x_delta1 = hidden_layerT.dot(delta_output)\n",
        "  weights_1 = weights_1 + (input_x_delta1 * learning_rate)\n",
        "\n",
        "  input_layerT = input_layer.T\n",
        "  input_x_delta0 = input_layerT.dot(delta_hidden_layer)\n",
        "  weights_0 = weights_0 + (input_x_delta0 * learning_rate)"
      ]
    },
    {
      "cell_type": "markdown",
      "metadata": {
        "id": "MU_7W08kHBTt"
      },
      "source": [
        "#### At this point after runing for 1million epochs you can see the value is very low."
      ]
    },
    {
      "cell_type": "code",
      "execution_count": 56,
      "metadata": {
        "colab": {
          "base_uri": "https://localhost:8080/"
        },
        "id": "7yYJcTkdHBTt",
        "outputId": "2e826bf6-5311-4d9d-c0dc-5d75b661a370"
      },
      "outputs": [
        {
          "output_type": "execute_result",
          "data": {
            "text/plain": [
              "0.9903290320690693"
            ]
          },
          "metadata": {},
          "execution_count": 56
        }
      ],
      "source": [
        "#1 million epochs with a learning rate of 0.3\n",
        "1 - 0.009670967930930745"
      ]
    },
    {
      "cell_type": "code",
      "execution_count": 57,
      "metadata": {
        "colab": {
          "base_uri": "https://localhost:8080/"
        },
        "id": "ld2jpkD5HBTt",
        "outputId": "01ed619a-32b3-4458-eb02-8d3802222cb3"
      },
      "outputs": [
        {
          "output_type": "execute_result",
          "data": {
            "text/plain": [
              "0.9918079771904136"
            ]
          },
          "metadata": {},
          "execution_count": 57
        }
      ],
      "source": [
        "#after 400,000 epochs, with a learning rate of 0.6\n",
        "1- 0.008192022809586367"
      ]
    },
    {
      "cell_type": "markdown",
      "metadata": {
        "id": "-J9oyuLzHBTt"
      },
      "source": [
        "# Let's visualize this result"
      ]
    },
    {
      "cell_type": "code",
      "execution_count": 58,
      "metadata": {
        "id": "hKUcNoV6HBTt"
      },
      "outputs": [],
      "source": [
        "import matplotlib.pyplot as plt\n"
      ]
    },
    {
      "cell_type": "code",
      "execution_count": 59,
      "metadata": {
        "colab": {
          "base_uri": "https://localhost:8080/",
          "height": 472
        },
        "id": "lrxbOZvKHBTt",
        "outputId": "92e205d6-bff8-4863-846a-8fd342c140d1"
      },
      "outputs": [
        {
          "output_type": "display_data",
          "data": {
            "text/plain": [
              "<Figure size 640x480 with 1 Axes>"
            ],
            "image/png": "[encoded data removed]"
          },
          "metadata": {}
        }
      ],
      "source": [
        "plt.xlabel('Number of Epochs')\n",
        "plt.ylabel('Error')\n",
        "plt.title('Plot showing results from Neural Network')\n",
        "plt.plot(error)\n",
        "plt.show()"
      ]
    },
    {
      "cell_type": "code",
      "execution_count": 60,
      "metadata": {
        "colab": {
          "base_uri": "https://localhost:8080/",
          "height": 472
        },
        "id": "gP5o39aYHBTt",
        "outputId": "a65b0d30-3fbe-4a89-d1ff-b99447f67395"
      },
      "outputs": [
        {
          "output_type": "display_data",
          "data": {
            "text/plain": [
              "<Figure size 640x480 with 1 Axes>"
            ],
            "image/png": "[encoded data removed]"
          },
          "metadata": {}
        }
      ],
      "source": [
        "plt.xlabel('Number of Epochs')\n",
        "plt.ylabel('Error')\n",
        "plt.title('Plot showing results from Neural Network')\n",
        "plt.plot(error)\n",
        "plt.show()"
      ]
    },
    {
      "cell_type": "markdown",
      "metadata": {
        "id": "WvfJkgSXHBTt"
      },
      "source": [
        "#### Compearing the outputs and the predictions"
      ]
    },
    {
      "cell_type": "code",
      "execution_count": 61,
      "metadata": {
        "colab": {
          "base_uri": "https://localhost:8080/"
        },
        "id": "_bo9uXjZHBTt",
        "outputId": "fa144f7f-0a5e-451e-dd9d-3511a2897f74"
      },
      "outputs": [
        {
          "output_type": "execute_result",
          "data": {
            "text/plain": [
              "array([[0],\n",
              "       [1],\n",
              "       [1],\n",
              "       [0]])"
            ]
          },
          "metadata": {},
          "execution_count": 61
        }
      ],
      "source": [
        "outputs"
      ]
    },
    {
      "cell_type": "code",
      "execution_count": 62,
      "metadata": {
        "colab": {
          "base_uri": "https://localhost:8080/"
        },
        "id": "EAxsny1kHBTt",
        "outputId": "e4b15f27-509f-4372-aea4-2242f8a021e6"
      },
      "outputs": [
        {
          "output_type": "execute_result",
          "data": {
            "text/plain": [
              "array([[6.42705450e-03],\n",
              "       [9.96149348e-01],\n",
              "       [9.96149670e-01],\n",
              "       [8.13237575e-04]])"
            ]
          },
          "metadata": {},
          "execution_count": 62
        }
      ],
      "source": [
        "output_layer"
      ]
    },
    {
      "cell_type": "markdown",
      "metadata": {
        "id": "mgB8BztxHBTt"
      },
      "source": [
        "#### * We see that our neural network was able to get values close to the actual values from the results.\n",
        "#### * This shows that our neural network can handle the complexity of the XOR operator dataset."
      ]
    },
    {
      "cell_type": "markdown",
      "metadata": {
        "id": "HebGE_5hHBTt"
      },
      "source": [
        "* Let us see the updated weights. These are the weights we will require if we want to make future predictions"
      ]
    },
    {
      "cell_type": "code",
      "execution_count": 63,
      "metadata": {
        "colab": {
          "base_uri": "https://localhost:8080/"
        },
        "id": "Uq4S3ytEHBTt",
        "outputId": "f95614de-8519-4b4e-e38b-17f1e1735c6b"
      },
      "outputs": [
        {
          "output_type": "execute_result",
          "data": {
            "text/plain": [
              "array([[ 7.15771633,  6.10406913, -4.86664723],\n",
              "       [-4.87944254,  6.17288987,  7.12050378]])"
            ]
          },
          "metadata": {},
          "execution_count": 63
        }
      ],
      "source": [
        "weights_0"
      ]
    },
    {
      "cell_type": "code",
      "execution_count": 64,
      "metadata": {
        "colab": {
          "base_uri": "https://localhost:8080/"
        },
        "id": "OX2_NXqRHBTt",
        "outputId": "31822141-e521-4508-a02f-616f1e8521a4"
      },
      "outputs": [
        {
          "output_type": "execute_result",
          "data": {
            "text/plain": [
              "array([[-15.78832917],\n",
              "       [ 21.50037008],\n",
              "       [-15.79362571]])"
            ]
          },
          "metadata": {},
          "execution_count": 64
        }
      ],
      "source": [
        "weights_1"
      ]
    },
    {
      "cell_type": "code",
      "execution_count": 65,
      "metadata": {
        "id": "uonyNF5-HBTt"
      },
      "outputs": [],
      "source": [
        "# This function accepts an instance of a dataset\n",
        "\n",
        "def calculate_output(instance):\n",
        "    #input to hidden layer\n",
        "    hidden_layer = sigmoid(np.dot(instance, weights_0))\n",
        "    #hidden to output layer\n",
        "    output_layer = sigmoid(np.dot(hidden_layer, weights_1))\n",
        "    return output_layer[0]"
      ]
    },
    {
      "cell_type": "code",
      "execution_count": 66,
      "metadata": {
        "colab": {
          "base_uri": "https://localhost:8080/"
        },
        "id": "_yrLiqHLHBTt",
        "outputId": "8c0157f9-6ea5-47da-ccf4-b43ab589de17"
      },
      "outputs": [
        {
          "output_type": "execute_result",
          "data": {
            "text/plain": [
              "0"
            ]
          },
          "metadata": {},
          "execution_count": 66
        }
      ],
      "source": [
        "round(calculate_output(np.array([0, 0])))"
      ]
    },
    {
      "cell_type": "code",
      "execution_count": 67,
      "metadata": {
        "colab": {
          "base_uri": "https://localhost:8080/"
        },
        "id": "97C1pGl5HBTt",
        "outputId": "03f61ac8-a4f4-46e8-ad42-9f34d6b8868e"
      },
      "outputs": [
        {
          "output_type": "execute_result",
          "data": {
            "text/plain": [
              "1"
            ]
          },
          "metadata": {},
          "execution_count": 67
        }
      ],
      "source": [
        "round(calculate_output(np.array([0, 1])))"
      ]
    },
    {
      "cell_type": "code",
      "execution_count": 68,
      "metadata": {
        "colab": {
          "base_uri": "https://localhost:8080/"
        },
        "id": "6byukhTLHBTt",
        "outputId": "9ea2f872-f5ae-49f7-becd-b69dad26133b"
      },
      "outputs": [
        {
          "output_type": "execute_result",
          "data": {
            "text/plain": [
              "1"
            ]
          },
          "metadata": {},
          "execution_count": 68
        }
      ],
      "source": [
        "round(calculate_output(np.array([1, 0])))"
      ]
    },
    {
      "cell_type": "code",
      "execution_count": 69,
      "metadata": {
        "colab": {
          "base_uri": "https://localhost:8080/"
        },
        "id": "lUijFbAJHBTt",
        "outputId": "1762df09-8884-4b68-a83c-99da548c1bc6"
      },
      "outputs": [
        {
          "output_type": "execute_result",
          "data": {
            "text/plain": [
              "0"
            ]
          },
          "metadata": {},
          "execution_count": 69
        }
      ],
      "source": [
        "round(calculate_output(np.array([1, 1])))"
      ]
    },
    {
      "cell_type": "markdown",
      "metadata": {
        "id": "5b3ee8aa"
      },
      "source": [
        "## High-Level Overview\n",
        "\n",
        "This notebook demonstrates the fundamental concepts and implementation of a simple **artificial neural network** trained to solve the **XOR (exclusive OR) problem**.\n",
        "\n",
        "Here's a breakdown of the key stages:\n",
        "\n",
        "1.  **Introduction to Core Components:**\n",
        "    *   The notebook starts by introducing essential components like the **sigmoid activation function** and its derivative, explaining their purpose in introducing non-linearity and enabling gradient-based learning.\n",
        "\n",
        "2.  **Defining Inputs, Outputs, and Initial Weights:**\n",
        "    *   It sets up the input data (`inputs`) and the desired output data (`outputs`) for the XOR problem.\n",
        "    *   It defines the structure of the neural network with an input layer, a hidden layer, and an output layer.\n",
        "    *   Initial weights (`weights_0` and `weights_1`) are introduced, first with specific values for illustration and then with random values as is standard practice.\n",
        "\n",
        "3.  **Forward Propagation (Making Predictions):**\n",
        "    *   The notebook walks through the process of **forward propagation**, where input data is passed through the network layers.\n",
        "    *   It shows how the weighted sum of inputs is calculated at each layer (`sum_synapse0`, `sum_synapse1`) and how the activation function (sigmoid) is applied (`hidden_layer`, `output_layer`).\n",
        "\n",
        "4.  **Calculating Error:**\n",
        "    *   It calculates the difference between the network's predicted output and the actual desired output (`error_output_layer`).\n",
        "    *   It also calculates the average error to get a sense of the network's performance.\n",
        "\n",
        "5.  **Backward Propagation (Learning):**\n",
        "    *   The notebook then demonstrates the **backward propagation** process, which is how the network learns from its errors.\n",
        "    *   It calculates the \"delta\" (error signal) for the output layer (`delta_output`) and the hidden layer (`delta_hidden_layer`) using the error and the derivative of the activation function.\n",
        "\n",
        "6.  **Updating Weights:**\n",
        "    *   Using the calculated deltas and a **learning rate**, the notebook shows how the weights (`weights_0` and `weights_1`) are adjusted to reduce the error. This is the core of the learning process.\n",
        "\n",
        "7.  **Training Loop:**\n",
        "    *   All the steps from forward propagation to weight updates are combined into a **training loop** that runs for a specified number of epochs.\n",
        "    *   During each epoch, the network processes the input data, calculates the error, and updates the weights to minimize that error.\n",
        "    *   The error is tracked and printed periodically to monitor the training progress.\n",
        "\n",
        "8.  **Evaluation and Prediction:**\n",
        "    *   After training, the notebook visualizes the error reduction over time using a plot.\n",
        "    *   It compares the network's final outputs with the expected outputs for the training data.\n",
        "    *   Finally, it demonstrates how to use the trained network (with the learned weights) to make predictions on new input instances.\n",
        "\n",
        "In essence, this notebook provides a step-by-step guide to building and training a simple feedforward neural network using NumPy to solve a classic non-linear problem."
      ]
    },
    {
      "cell_type": "code",
      "execution_count": null,
      "metadata": {
        "id": "-dwQxKgGHBTu"
      },
      "outputs": [],
      "source": []
    }
  ],
  "metadata": {
    "kernelspec": {
      "display_name": "Python 3",
      "language": "python",
      "name": "python3"
    },
    "language_info": {
      "codemirror_mode": {
        "name": "ipython",
        "version": 3
      },
      "file_extension": ".py",
      "mimetype": "text/x-python",
      "name": "python",
      "nbconvert_exporter": "python",
      "pygments_lexer": "ipython3",
      "version": "3.7.6"
    },
    "colab": {
      "provenance": [],
      "include_colab_link": true
    }
  },
  "nbformat": 4,
  "nbformat_minor": 0
}
