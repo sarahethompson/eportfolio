{
  "cells": [
    {
      "cell_type": "markdown",
      "metadata": {
        "id": "view-in-github",
        "colab_type": "text"
      },
      "source": [
        "<a href=\"https://colab.research.google.com/github/sarahethompson/eportfolio/blob/main/artefacts/module-3/unit-7-perceptron-and-operator.ipynb\" target=\"_parent\"><img src=\"https://colab.research.google.com/assets/colab-badge.svg\" alt=\"Open In Colab\"/></a>"
      ]
    },
    {
      "cell_type": "markdown",
      "metadata": {
        "id": "3wLYANPnAWRE"
      },
      "source": [
        "### Author: Dr Mike Lakoju, CardiffMet"
      ]
    },
    {
      "cell_type": "markdown",
      "metadata": {
        "id": "Xfv483OAAWRF"
      },
      "source": [
        "### Import Library"
      ]
    },
    {
      "cell_type": "code",
      "execution_count": 1,
      "metadata": {
        "id": "k3mSuNxBAWRG"
      },
      "outputs": [],
      "source": [
        "import numpy as np"
      ]
    },
    {
      "cell_type": "markdown",
      "metadata": {
        "id": "WfqCOuCiAWRG"
      },
      "source": [
        "### Define \"Inputs, outputs and weights\" as Numpy arrays"
      ]
    },
    {
      "cell_type": "markdown",
      "metadata": {
        "id": "O7k9Jr9rAWRG"
      },
      "source": [
        "#### Inputs"
      ]
    },
    {
      "cell_type": "code",
      "execution_count": 2,
      "metadata": {
        "id": "7qIlCEfwAWRG"
      },
      "outputs": [],
      "source": [
        "# Creating input values as a matrix not as a vector\n",
        "inputs = np.array([[0,0], [0,1], [1,0], [1,1]])"
      ]
    },
    {
      "cell_type": "code",
      "execution_count": 5,
      "metadata": {
        "id": "BU_jniLUAWRG",
        "outputId": "939478a2-c0ec-4f46-8c71-f23978cd33a0",
        "colab": {
          "base_uri": "https://localhost:8080/"
        }
      },
      "outputs": [
        {
          "output_type": "execute_result",
          "data": {
            "text/plain": [
              "(4, 2)"
            ]
          },
          "metadata": {},
          "execution_count": 5
        }
      ],
      "source": [
        "# Chcking the shape of the inputs\n",
        "\n",
        "inputs.shape"
      ]
    },
    {
      "cell_type": "markdown",
      "source": [
        "**The output (4, 2) means the array has 4 rows and 2 columns.**"
      ],
      "metadata": {
        "id": "XGJr_xEOBIa1"
      }
    },
    {
      "cell_type": "markdown",
      "metadata": {
        "id": "7QzH1cinAWRG"
      },
      "source": [
        "#### Outputs"
      ]
    },
    {
      "cell_type": "code",
      "execution_count": 3,
      "metadata": {
        "id": "T8NcO1vFAWRH"
      },
      "outputs": [],
      "source": [
        "outputs = np.array([0, 0, 0, 1])"
      ]
    },
    {
      "cell_type": "code",
      "execution_count": 4,
      "metadata": {
        "id": "1y3GWO9FAWRH",
        "outputId": "4d78ecb3-14b1-467d-84fd-56c63225092b",
        "colab": {
          "base_uri": "https://localhost:8080/"
        }
      },
      "outputs": [
        {
          "output_type": "execute_result",
          "data": {
            "text/plain": [
              "(4,)"
            ]
          },
          "metadata": {},
          "execution_count": 4
        }
      ],
      "source": [
        "#Checking the shape of the outputs\n",
        "\n",
        "outputs.shape"
      ]
    },
    {
      "cell_type": "markdown",
      "source": [
        "**The output (4,) indicates that the array is a one-dimensional array with 4 elements.**"
      ],
      "metadata": {
        "id": "rZWm6WSCBA4y"
      }
    },
    {
      "cell_type": "markdown",
      "metadata": {
        "id": "79O2sMT4AWRH"
      },
      "source": [
        "#### Weights"
      ]
    },
    {
      "cell_type": "code",
      "execution_count": 6,
      "metadata": {
        "id": "UE7bNlekAWRH"
      },
      "outputs": [],
      "source": [
        "# one weight for x1 and one for x2\n",
        "weights = np.array([0.0, 0.0])"
      ]
    },
    {
      "cell_type": "markdown",
      "metadata": {
        "id": "B5lAq4J3AWRH"
      },
      "source": [
        "#### Learning Rate"
      ]
    },
    {
      "cell_type": "code",
      "execution_count": 7,
      "metadata": {
        "id": "kWDN_KNSAWRH"
      },
      "outputs": [],
      "source": [
        "learning_rate = 0.1"
      ]
    },
    {
      "cell_type": "markdown",
      "metadata": {
        "id": "CwxZx04KAWRH"
      },
      "source": [
        "## Step function"
      ]
    },
    {
      "cell_type": "code",
      "execution_count": 8,
      "metadata": {
        "id": "VRKp5eRGAWRH"
      },
      "outputs": [],
      "source": [
        "# This is our Activation function\n",
        "\n",
        "def step_function(sum):\n",
        "  if (sum >= 1):\n",
        "    #print(f'The Sum of Weights is Greater or equal to 1')\n",
        "    return 1\n",
        "  else:\n",
        "        #print(f'The Sum of Weights is NOT > or = to 1')\n",
        "        return 0"
      ]
    },
    {
      "cell_type": "markdown",
      "source": [
        "**This code defines a step_function which serves as the activation function for the neural network. It takes a single argument sum. If sum is greater than or equal to 1, the function returns 1; otherwise, it returns 0. This type of function is often used in simple perceptrons to produce a binary output (0 or 1).**"
      ],
      "metadata": {
        "id": "ypeHY_5jB3ye"
      }
    },
    {
      "cell_type": "markdown",
      "metadata": {
        "id": "pmY-nVGEAWRH"
      },
      "source": [
        "## Process Output"
      ]
    },
    {
      "cell_type": "markdown",
      "metadata": {
        "id": "izSlCY5DAWRH"
      },
      "source": [
        "<b>We define a function that allows us to calculate/ process the output. The function accepts an instance of our data, then calculate the sum function using Numpy. Finally, we check the output by passing it through the \"Step Function.\"</b>"
      ]
    },
    {
      "cell_type": "code",
      "execution_count": 9,
      "metadata": {
        "id": "Ao5c4G72AWRH"
      },
      "outputs": [],
      "source": [
        "def cal_output(instance):\n",
        "  sum_func = instance.dot(weights)\n",
        "  return step_function(sum_func)"
      ]
    },
    {
      "cell_type": "markdown",
      "metadata": {
        "id": "qk4NURw2AWRH"
      },
      "source": [
        "We pass it as alist in a numpy array ..."
      ]
    },
    {
      "cell_type": "code",
      "execution_count": 10,
      "metadata": {
        "id": "uGoQBb8CAWRH",
        "outputId": "a6314384-88ed-43ca-e4d6-c03ad23a891b",
        "colab": {
          "base_uri": "https://localhost:8080/"
        }
      },
      "outputs": [
        {
          "output_type": "execute_result",
          "data": {
            "text/plain": [
              "0"
            ]
          },
          "metadata": {},
          "execution_count": 10
        }
      ],
      "source": [
        "cal_output(np.array([[1,1]]))"
      ]
    },
    {
      "cell_type": "markdown",
      "metadata": {
        "id": "ADI2sIDUAWRI"
      },
      "source": [
        "## Train"
      ]
    },
    {
      "cell_type": "code",
      "execution_count": 11,
      "metadata": {
        "id": "vIlVPlZtAWRI",
        "outputId": "c00cb17d-c291-481b-dce3-be7979d18459",
        "colab": {
          "base_uri": "https://localhost:8080/"
        }
      },
      "outputs": [
        {
          "output_type": "execute_result",
          "data": {
            "text/plain": [
              "4"
            ]
          },
          "metadata": {},
          "execution_count": 11
        }
      ],
      "source": [
        "# Check the number of outputs\n",
        "\n",
        "len(outputs)"
      ]
    },
    {
      "cell_type": "code",
      "execution_count": 12,
      "metadata": {
        "id": "fjefHFagAWRI",
        "outputId": "347429a6-8c01-413a-c040-166ef9e70b0a",
        "colab": {
          "base_uri": "https://localhost:8080/"
        }
      },
      "outputs": [
        {
          "output_type": "execute_result",
          "data": {
            "text/plain": [
              "array([1, 1])"
            ]
          },
          "metadata": {},
          "execution_count": 12
        }
      ],
      "source": [
        "# Checking the index of the input at postion 3 ..\n",
        "# this is the last inpute value\n",
        "inputs[3]"
      ]
    },
    {
      "cell_type": "code",
      "execution_count": 14,
      "metadata": {
        "id": "gUUXOyOJAWRI",
        "outputId": "c4165cc1-a26a-43b6-f351-889f6d132e81",
        "colab": {
          "base_uri": "https://localhost:8080/"
        }
      },
      "outputs": [
        {
          "output_type": "execute_result",
          "data": {
            "text/plain": [
              "array([[0, 0],\n",
              "       [0, 1],\n",
              "       [1, 0],\n",
              "       [1, 1]])"
            ]
          },
          "metadata": {},
          "execution_count": 14
        }
      ],
      "source": [
        "inputs"
      ]
    },
    {
      "cell_type": "markdown",
      "metadata": {
        "id": "ae6sVlTSAWRI"
      },
      "source": [
        "<b>Note that:</b> usually, we will need to define the number of epochs, because we will never really get a value of zero when dealing with real-world data. However, for this small data, we will run the loop till we obtain zero error"
      ]
    },
    {
      "cell_type": "code",
      "execution_count": 29,
      "metadata": {
        "id": "0WmxhZakAWRI"
      },
      "outputs": [],
      "source": [
        "def train():\n",
        "    #\n",
        "    total_error_value = 1\n",
        "    # While the total_error_value is not equal to zero. we are asumming that at the start of running our network there will be no zero\n",
        "    while (total_error_value != 0):\n",
        "        #making the total_error 0 so we can do other calculations\n",
        "        total_error_value = 0\n",
        "        #Looping into each row of the dataset (remember indexing in python starts at zero hence 0-3 which are 4 values)\n",
        "        for i in range(len(outputs)):\n",
        "            #Calculating predictions\n",
        "            prediction = cal_output(inputs[i])\n",
        "            # Calculating the absolute value of the error\n",
        "            error = abs(outputs[i] - prediction)\n",
        "            #Updating the error\n",
        "            total_error_value  += error\n",
        "\n",
        "            if error > 0:\n",
        "                for j in range(len(weights)):\n",
        "                    #updating the weights for x1 and x2\n",
        "                    weights[j] = weights[j] + (learning_rate * inputs[i][j] * error)\n",
        "                    print('Weight updated to: ' + str(weights[j]))\n",
        "        print('Total error Value: ' + str(total_error_value))"
      ]
    },
    {
      "cell_type": "markdown",
      "source": [
        "**This code defines the train function, which implements the training process for the perceptron. It uses a while loop that continues as long as total_error_value is not zero. Inside the loop, it iterates through each input-output pair, calculates the prediction using cal_output, and determines the error. If there's an error, it updates the weights based on the learning_rate, input value, and error. The total_error_value is updated in each iteration, and the process stops when the total error is 0.**"
      ],
      "metadata": {
        "id": "pFkKJZuOC_rw"
      }
    },
    {
      "cell_type": "code",
      "execution_count": 34,
      "metadata": {
        "id": "HxaUT8-uAWRI",
        "outputId": "efc1a73e-1556-4b9f-b0d9-be5af90d5e97",
        "colab": {
          "base_uri": "https://localhost:8080/"
        }
      },
      "outputs": [
        {
          "output_type": "stream",
          "name": "stdout",
          "text": [
            "Total error Value: 0\n"
          ]
        }
      ],
      "source": [
        "train()"
      ]
    },
    {
      "cell_type": "markdown",
      "metadata": {
        "id": "meLCX4mnAWRI"
      },
      "source": [
        "## Classification"
      ]
    },
    {
      "cell_type": "code",
      "execution_count": 28,
      "metadata": {
        "id": "qh54DiWeAWRI",
        "outputId": "331e7af1-4579-467a-a257-2039ddcf0ca6",
        "colab": {
          "base_uri": "https://localhost:8080/"
        }
      },
      "outputs": [
        {
          "output_type": "execute_result",
          "data": {
            "text/plain": [
              "array([0.5, 0.5])"
            ]
          },
          "metadata": {},
          "execution_count": 28
        }
      ],
      "source": [
        "# Now we have the final weights that will be used to classify new instances of the data after training.\n",
        "\n",
        "weights"
      ]
    },
    {
      "cell_type": "code",
      "execution_count": 35,
      "metadata": {
        "id": "slwd-rTMAWRI",
        "outputId": "0ec1ec42-c0f9-4ff6-e193-4a12bc74e7db",
        "colab": {
          "base_uri": "https://localhost:8080/"
        }
      },
      "outputs": [
        {
          "output_type": "execute_result",
          "data": {
            "text/plain": [
              "0"
            ]
          },
          "metadata": {},
          "execution_count": 35
        }
      ],
      "source": [
        "cal_output(np.array([0,0]))"
      ]
    },
    {
      "cell_type": "code",
      "execution_count": 36,
      "metadata": {
        "id": "DEKsR1BHAWRI",
        "outputId": "ca9495df-eade-411a-f604-e01ffb7daf1d",
        "colab": {
          "base_uri": "https://localhost:8080/"
        }
      },
      "outputs": [
        {
          "output_type": "execute_result",
          "data": {
            "text/plain": [
              "0"
            ]
          },
          "metadata": {},
          "execution_count": 36
        }
      ],
      "source": [
        "cal_output(np.array([0,1]))"
      ]
    },
    {
      "cell_type": "code",
      "execution_count": 37,
      "metadata": {
        "id": "pLiGHIsNAWRI",
        "outputId": "28a09f3b-f985-4f46-9244-e9520858534f",
        "colab": {
          "base_uri": "https://localhost:8080/"
        }
      },
      "outputs": [
        {
          "output_type": "execute_result",
          "data": {
            "text/plain": [
              "0"
            ]
          },
          "metadata": {},
          "execution_count": 37
        }
      ],
      "source": [
        "cal_output(np.array([1,0]))"
      ]
    },
    {
      "cell_type": "code",
      "execution_count": 38,
      "metadata": {
        "id": "SiGLK7dsAWRI",
        "outputId": "e08b2cc8-4b4a-4de5-9fa6-07cc454ec5a3",
        "colab": {
          "base_uri": "https://localhost:8080/"
        }
      },
      "outputs": [
        {
          "output_type": "execute_result",
          "data": {
            "text/plain": [
              "1"
            ]
          },
          "metadata": {},
          "execution_count": 38
        }
      ],
      "source": [
        "cal_output(np.array([1,1]))"
      ]
    },
    {
      "cell_type": "code",
      "execution_count": null,
      "metadata": {
        "id": "tkBqqWlfAWRJ"
      },
      "outputs": [],
      "source": []
    },
    {
      "cell_type": "code",
      "execution_count": null,
      "metadata": {
        "id": "hpYrH4RYAWRJ"
      },
      "outputs": [],
      "source": []
    }
  ],
  "metadata": {
    "kernelspec": {
      "display_name": "Python 3",
      "language": "python",
      "name": "python3"
    },
    "language_info": {
      "codemirror_mode": {
        "name": "ipython",
        "version": 3
      },
      "file_extension": ".py",
      "mimetype": "text/x-python",
      "name": "python",
      "nbconvert_exporter": "python",
      "pygments_lexer": "ipython3",
      "version": "3.7.6"
    },
    "colab": {
      "provenance": [],
      "include_colab_link": true
    }
  },
  "nbformat": 4,
  "nbformat_minor": 0
}