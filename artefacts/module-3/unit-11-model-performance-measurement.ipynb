{
  "cells": [
    {
      "cell_type": "markdown",
      "metadata": {
        "id": "view-in-github",
        "colab_type": "text"
      },
      "source": [
        "<a href=\"https://colab.research.google.com/github/sarahethompson/eportfolio/blob/main/artefacts/module-3/unit-11-model-performance-measurement.ipynb\" target=\"_parent\"><img src=\"https://colab.research.google.com/assets/colab-badge.svg\" alt=\"Open In Colab\"/></a>"
      ]
    },
    {
      "cell_type": "markdown",
      "metadata": {
        "id": "b138a301"
      },
      "source": [
        "### Summary of Model Performance Measurement and Parameter Impact\n",
        "\n",
        "This notebook explores various metrics for evaluating the performance of machine learning models, covering both classification and regression tasks.\n",
        "\n",
        "**Classification Metrics:**\n",
        "\n",
        "*   **Confusion Matrix:** Demonstrates how to calculate and visualize the confusion matrix to understand the breakdown of true positives, true negatives, false positives, and false negatives.\n",
        "*   **F1 Score:** Shows how to calculate the F1 score (harmonic mean of precision and recall) using different averaging methods (macro, micro, weighted, and None) for multi-class and multi-label classification.\n",
        "*   **Accuracy Score:** Illustrates the calculation of overall accuracy.\n",
        "*   **Precision Score:** Demonstrates how to calculate precision (proportion of true positives among all positive predictions) using macro averaging.\n",
        "*   **Recall Score:** Shows how to calculate recall (proportion of true positives among all actual positives) using macro averaging.\n",
        "*   **Classification Report:** Provides a comprehensive report including precision, recall, F1-score, and support for each class.\n",
        "*   **AUC (Area Under the ROC Curve):** Explains how to calculate AUC for binary and multi-class classification using the One-vs-Rest strategy and visualizes the ROC curve.\n",
        "*   **Log Loss:** Demonstrates the calculation of log loss for evaluating the performance of a classification model that outputs probability values.\n",
        "\n",
        "**Regression Metrics:**\n",
        "\n",
        "*   **RMSE (Root Mean Squared Error):** Shows how to calculate the mean squared error, which is then typically used to calculate the RMSE.\n",
        "*   **MAE (Mean Absolute Error):** Illustrates the calculation of the mean absolute error.\n",
        "*   **R-squared (Coefficient of Determination):** Demonstrates how to calculate the R-squared score, which represents the proportion of the variance in the dependent variable that is predictable from the independent variables.\n",
        "\n",
        "**Exploring Parameter Impact:**\n",
        "\n",
        "*   The notebook includes an example demonstrating how changing the `C` parameter in a Logistic Regression model impacts the AUC score.\n",
        "*   It also shows how the `fit_intercept` parameter in a Linear Regression model affects the R2 score.\n",
        "*   Visualizations are provided to illustrate these impacts, showing the change in AUC with different `C` values and the difference in R2 with and without fitting an intercept."
      ],
      "id": "b138a301"
    },
    {
      "cell_type": "markdown",
      "metadata": {
        "id": "xzcDlA4fO1q-"
      },
      "source": [
        "### Model performance measurement\n",
        "\n",
        "#### Confusion Matrix"
      ],
      "id": "xzcDlA4fO1q-"
    },
    {
      "cell_type": "code",
      "execution_count": 1,
      "metadata": {
        "id": "cTKPkuRCO1q_"
      },
      "outputs": [],
      "source": [
        "from sklearn.metrics import confusion_matrix"
      ],
      "id": "cTKPkuRCO1q_"
    },
    {
      "cell_type": "code",
      "execution_count": 2,
      "metadata": {
        "colab": {
          "base_uri": "https://localhost:8080/"
        },
        "id": "5EkQKLVnO1rA",
        "outputId": "576eeb51-c612-409b-d8df-66e35c496e1b"
      },
      "outputs": [
        {
          "output_type": "execute_result",
          "data": {
            "text/plain": [
              "(np.int64(0), np.int64(2), np.int64(1), np.int64(1))"
            ]
          },
          "metadata": {},
          "execution_count": 2
        }
      ],
      "source": [
        "tn, fp, fn, tp = confusion_matrix([0, 1, 0, 1], [1, 1, 1, 0]).ravel()\n",
        "(tn, fp, fn, tp)"
      ],
      "id": "5EkQKLVnO1rA"
    },
    {
      "cell_type": "code",
      "execution_count": 3,
      "metadata": {
        "colab": {
          "base_uri": "https://localhost:8080/",
          "height": 455
        },
        "id": "_iLptj8TO1rA",
        "outputId": "96829935-89ea-47ef-ed3b-6ed6158a1f18"
      },
      "outputs": [
        {
          "output_type": "display_data",
          "data": {
            "text/plain": [
              "<Figure size 640x480 with 2 Axes>"
            ],
            "image/png": "[encoded data removed]"
          },
          "metadata": {}
        }
      ],
      "source": [
        "import matplotlib.pyplot as plt\n",
        "from sklearn.datasets import make_classification\n",
        "from sklearn.metrics import confusion_matrix, ConfusionMatrixDisplay\n",
        "from sklearn.model_selection import train_test_split\n",
        "from sklearn.svm import SVC\n",
        "X, y = make_classification(random_state=0)\n",
        "X_train, X_test, y_train, y_test = train_test_split(X, y,\n",
        "                                                    random_state=0)\n",
        "clf = SVC(random_state=0)\n",
        "clf.fit(X_train, y_train)\n",
        "SVC(random_state=0)\n",
        "predictions = clf.predict(X_test)\n",
        "cm = confusion_matrix(y_test, predictions, labels=clf.classes_)\n",
        "disp = ConfusionMatrixDisplay(confusion_matrix=cm,\n",
        "                               display_labels=clf.classes_)\n",
        "disp.plot()\n",
        "\n",
        "plt.show()\n"
      ],
      "id": "_iLptj8TO1rA"
    },
    {
      "cell_type": "markdown",
      "metadata": {
        "id": "HvUUXXuFO1rB"
      },
      "source": [
        "#### F1, Accuracy, Recall, AUC and Precision scores"
      ],
      "id": "HvUUXXuFO1rB"
    },
    {
      "cell_type": "code",
      "execution_count": 4,
      "metadata": {
        "colab": {
          "base_uri": "https://localhost:8080/"
        },
        "id": "hUE3Hwh-O1rB",
        "outputId": "342b7083-f588-4397-b55c-75de21dcd217"
      },
      "outputs": [
        {
          "output_type": "stream",
          "name": "stdout",
          "text": [
            "Macro f1 score: 0.26666666666666666\n",
            "Micro F1: 0.3333333333333333\n",
            "Weighted Average F1: 0.26666666666666666\n",
            "F1 No Average: [0.8 0.  0. ]\n",
            "F1 No Average: [0.66666667 1.         0.66666667]\n"
          ]
        }
      ],
      "source": [
        "from sklearn.metrics import f1_score\n",
        "\n",
        "y_true = [0, 1, 2, 0, 1, 2]\n",
        "y_pred = [0, 2, 1, 0, 0, 1]\n",
        "\n",
        "print(f\"Macro f1 score: {f1_score(y_true, y_pred, average='macro')}\")\n",
        "\n",
        "print(f\"Micro F1: {f1_score(y_true, y_pred, average='micro')}\")\n",
        "\n",
        "print(f\"Weighted Average F1: {f1_score(y_true, y_pred, average='weighted')}\")\n",
        "\n",
        "print(f\"F1 No Average: {f1_score(y_true, y_pred, average=None)}\")\n",
        "\n",
        "y_true = [0, 0, 0, 0, 0, 0]\n",
        "y_pred = [0, 0, 0, 0, 0, 0]\n",
        "f1_score(y_true, y_pred, zero_division=1)\n",
        "\n",
        "# multilabel classification\n",
        "y_true = [[0, 0, 0], [1, 1, 1], [0, 1, 1]]\n",
        "y_pred = [[0, 0, 0], [1, 1, 1], [1, 1, 0]]\n",
        "print(f\"F1 No Average: {f1_score(y_true, y_pred, average=None)}\")\n"
      ],
      "id": "hUE3Hwh-O1rB"
    },
    {
      "cell_type": "code",
      "execution_count": 5,
      "metadata": {
        "colab": {
          "base_uri": "https://localhost:8080/"
        },
        "id": "rkwVOVX-O1rB",
        "outputId": "8082c9e5-70e8-4e1a-df56-9a09e96b4bf6"
      },
      "outputs": [
        {
          "output_type": "execute_result",
          "data": {
            "text/plain": [
              "0.5"
            ]
          },
          "metadata": {},
          "execution_count": 5
        }
      ],
      "source": [
        " from sklearn.metrics import accuracy_score\n",
        "y_pred = [0, 2, 1, 3]\n",
        "y_true = [0, 1, 2, 3]\n",
        "accuracy_score(y_true, y_pred)"
      ],
      "id": "rkwVOVX-O1rB"
    },
    {
      "cell_type": "code",
      "execution_count": 6,
      "metadata": {
        "colab": {
          "base_uri": "https://localhost:8080/"
        },
        "id": "HnSdtSX5O1rC",
        "outputId": "98377350-85ef-45d1-b09b-a4bde8ff4d9d"
      },
      "outputs": [
        {
          "output_type": "execute_result",
          "data": {
            "text/plain": [
              "0.2222222222222222"
            ]
          },
          "metadata": {},
          "execution_count": 6
        }
      ],
      "source": [
        "from sklearn.metrics import precision_score\n",
        "y_true = [0, 1, 2, 0, 1, 2]\n",
        "y_pred = [0, 2, 1, 0, 0, 1]\n",
        "precision_score(y_true, y_pred, average='macro')"
      ],
      "id": "HnSdtSX5O1rC"
    },
    {
      "cell_type": "code",
      "execution_count": 7,
      "metadata": {
        "colab": {
          "base_uri": "https://localhost:8080/"
        },
        "id": "skpBT2oWO1rC",
        "outputId": "f67b1721-ff33-48be-e9b7-6fd77b3499ff"
      },
      "outputs": [
        {
          "output_type": "execute_result",
          "data": {
            "text/plain": [
              "0.3333333333333333"
            ]
          },
          "metadata": {},
          "execution_count": 7
        }
      ],
      "source": [
        "from sklearn.metrics import recall_score\n",
        "y_true = [0, 1, 2, 0, 1, 2]\n",
        "y_pred = [0, 2, 1, 0, 0, 1]\n",
        "recall_score(y_true, y_pred, average='macro')"
      ],
      "id": "skpBT2oWO1rC"
    },
    {
      "cell_type": "code",
      "execution_count": 8,
      "metadata": {
        "colab": {
          "base_uri": "https://localhost:8080/"
        },
        "id": "1rtp95iOO1rC",
        "outputId": "7bc0e800-eee7-4b07-fdcb-94644b960195"
      },
      "outputs": [
        {
          "output_type": "stream",
          "name": "stdout",
          "text": [
            "              precision    recall  f1-score   support\n",
            "\n",
            "     class 0       0.50      1.00      0.67         1\n",
            "     class 1       0.00      0.00      0.00         1\n",
            "     class 2       1.00      0.67      0.80         3\n",
            "\n",
            "    accuracy                           0.60         5\n",
            "   macro avg       0.50      0.56      0.49         5\n",
            "weighted avg       0.70      0.60      0.61         5\n",
            "\n"
          ]
        }
      ],
      "source": [
        "from sklearn.metrics import classification_report\n",
        "y_true = [0, 1, 2, 2, 2]\n",
        "y_pred = [0, 0, 2, 2, 1]\n",
        "target_names = ['class 0', 'class 1', 'class 2']\n",
        "print(classification_report(y_true, y_pred, target_names=target_names))"
      ],
      "id": "1rtp95iOO1rC"
    },
    {
      "cell_type": "code",
      "execution_count": 9,
      "metadata": {
        "colab": {
          "base_uri": "https://localhost:8080/"
        },
        "id": "fKZxnmvMO1rD",
        "outputId": "9a460784-724d-421f-822d-4dfdf23dca65"
      },
      "outputs": [
        {
          "output_type": "execute_result",
          "data": {
            "text/plain": [
              "np.float64(0.994767718408118)"
            ]
          },
          "metadata": {},
          "execution_count": 9
        }
      ],
      "source": [
        "from sklearn.datasets import load_breast_cancer\n",
        "from sklearn.linear_model import LogisticRegression\n",
        "from sklearn.metrics import roc_auc_score\n",
        "X, y = load_breast_cancer(return_X_y=True)\n",
        "clf = LogisticRegression(solver=\"liblinear\", random_state=0).fit(X, y)\n",
        "roc_auc_score(y, clf.predict_proba(X)[:, 1])\n"
      ],
      "id": "fKZxnmvMO1rD"
    },
    {
      "cell_type": "code",
      "execution_count": 10,
      "metadata": {
        "colab": {
          "base_uri": "https://localhost:8080/"
        },
        "id": "PlEOMdDqO1rD",
        "outputId": "2f3bbc32-5946-4e98-ce51-988092000fdd"
      },
      "outputs": [
        {
          "output_type": "execute_result",
          "data": {
            "text/plain": [
              "np.float64(0.9913333333333334)"
            ]
          },
          "metadata": {},
          "execution_count": 10
        }
      ],
      "source": [
        "#multiclass case\n",
        "from sklearn.datasets import load_iris\n",
        "X, y = load_iris(return_X_y=True)\n",
        "clf = LogisticRegression(solver=\"liblinear\").fit(X, y)\n",
        "roc_auc_score(y, clf.predict_proba(X), multi_class='ovr')"
      ],
      "id": "PlEOMdDqO1rD"
    },
    {
      "cell_type": "code",
      "execution_count": 11,
      "metadata": {
        "id": "GsA2k4LwO1rD"
      },
      "outputs": [],
      "source": [
        "import numpy as np\n",
        "import matplotlib.pyplot as plt\n",
        "from itertools import cycle\n",
        "\n",
        "from sklearn import svm, datasets\n",
        "from sklearn.metrics import roc_curve, auc\n",
        "from sklearn.model_selection import train_test_split\n",
        "from sklearn.preprocessing import label_binarize\n",
        "from sklearn.multiclass import OneVsRestClassifier\n",
        "from sklearn.metrics import roc_auc_score\n",
        "\n",
        "# Import some data to play with\n",
        "iris = datasets.load_iris()\n",
        "X = iris.data\n",
        "y = iris.target\n",
        "\n",
        "# Binarize the output\n",
        "y = label_binarize(y, classes=[0, 1, 2])\n",
        "n_classes = y.shape[1]\n",
        "\n",
        "# Add noisy features to make the problem harder\n",
        "random_state = np.random.RandomState(0)\n",
        "n_samples, n_features = X.shape\n",
        "X = np.c_[X, random_state.randn(n_samples, 200 * n_features)]\n",
        "\n",
        "# shuffle and split training and test sets\n",
        "X_train, X_test, y_train, y_test = train_test_split(X, y, test_size=0.5, random_state=0)\n",
        "\n",
        "# Learn to predict each class against the other\n",
        "classifier = OneVsRestClassifier(\n",
        "    svm.SVC(kernel=\"linear\", probability=True, random_state=random_state)\n",
        ")\n",
        "y_score = classifier.fit(X_train, y_train).decision_function(X_test)\n",
        "\n",
        "# Compute ROC curve and ROC area for each class\n",
        "fpr = dict()\n",
        "tpr = dict()\n",
        "roc_auc = dict()\n",
        "for i in range(n_classes):\n",
        "    fpr[i], tpr[i], _ = roc_curve(y_test[:, i], y_score[:, i])\n",
        "    roc_auc[i] = auc(fpr[i], tpr[i])\n",
        "\n",
        "# Compute micro-average ROC curve and ROC area\n",
        "fpr[\"micro\"], tpr[\"micro\"], _ = roc_curve(y_test.ravel(), y_score.ravel())\n",
        "roc_auc[\"micro\"] = auc(fpr[\"micro\"], tpr[\"micro\"])"
      ],
      "id": "GsA2k4LwO1rD"
    },
    {
      "cell_type": "code",
      "execution_count": 12,
      "metadata": {
        "colab": {
          "base_uri": "https://localhost:8080/",
          "height": 472
        },
        "id": "8CGEP22IO1rD",
        "outputId": "c29d4134-3fd9-48e2-90f2-17193114ffba"
      },
      "outputs": [
        {
          "output_type": "display_data",
          "data": {
            "text/plain": [
              "<Figure size 640x480 with 1 Axes>"
            ],
            "image/png": "[encoded data removed]"
          },
          "metadata": {}
        }
      ],
      "source": [
        "plt.figure()\n",
        "lw = 2\n",
        "plt.plot(\n",
        "    fpr[2],\n",
        "    tpr[2],\n",
        "    color=\"darkorange\",\n",
        "    lw=lw,\n",
        "    label=\"ROC curve (area = %0.2f)\" % roc_auc[2],\n",
        ")\n",
        "plt.plot([0, 1], [0, 1], color=\"navy\", lw=lw, linestyle=\"--\")\n",
        "plt.xlim([0.0, 1.0])\n",
        "plt.ylim([0.0, 1.05])\n",
        "plt.xlabel(\"False Positive Rate\")\n",
        "plt.ylabel(\"True Positive Rate\")\n",
        "plt.title(\"Receiver operating characteristic example\")\n",
        "plt.legend(loc=\"lower right\")\n",
        "plt.show()\n"
      ],
      "id": "8CGEP22IO1rD"
    },
    {
      "cell_type": "code",
      "execution_count": 13,
      "metadata": {
        "colab": {
          "base_uri": "https://localhost:8080/"
        },
        "id": "MGgEGBU4O1rD",
        "outputId": "6eb19dc6-9e1f-4112-c3b7-c7ca4307da4d"
      },
      "outputs": [
        {
          "output_type": "execute_result",
          "data": {
            "text/plain": [
              "0.21616187468057912"
            ]
          },
          "metadata": {},
          "execution_count": 13
        }
      ],
      "source": [
        "from sklearn.metrics import log_loss\n",
        "log_loss([\"spam\", \"ham\", \"ham\", \"spam\"], [[.1, .9], [.9, .1], [.8, .2], [.35, .65]])"
      ],
      "id": "MGgEGBU4O1rD"
    },
    {
      "cell_type": "markdown",
      "metadata": {
        "id": "l4Kg-UfIO1rD"
      },
      "source": [
        "### Regression metrics"
      ],
      "id": "l4Kg-UfIO1rD"
    },
    {
      "cell_type": "markdown",
      "metadata": {
        "id": "sfoZ-TDjO1rD"
      },
      "source": [
        "#### RMSE"
      ],
      "id": "sfoZ-TDjO1rD"
    },
    {
      "cell_type": "code",
      "execution_count": 14,
      "metadata": {
        "colab": {
          "base_uri": "https://localhost:8080/"
        },
        "id": "ArOMrIzOO1rE",
        "outputId": "f126b8f4-799f-4bc8-b694-564fc639dceb"
      },
      "outputs": [
        {
          "output_type": "execute_result",
          "data": {
            "text/plain": [
              "0.375"
            ]
          },
          "metadata": {},
          "execution_count": 14
        }
      ],
      "source": [
        "from sklearn.metrics import mean_squared_error\n",
        "y_true = [3, -0.5, 2, 7]\n",
        "y_pred = [2.5, 0.0, 2, 8]\n",
        "mean_squared_error(y_true, y_pred)"
      ],
      "id": "ArOMrIzOO1rE"
    },
    {
      "cell_type": "markdown",
      "metadata": {
        "id": "lxiPy9XuO1rE"
      },
      "source": [
        "#### MAE"
      ],
      "id": "lxiPy9XuO1rE"
    },
    {
      "cell_type": "code",
      "execution_count": 15,
      "metadata": {
        "colab": {
          "base_uri": "https://localhost:8080/"
        },
        "id": "vDy8Ve0bO1rE",
        "outputId": "2722841e-fbed-4be0-978f-97d97a249f36"
      },
      "outputs": [
        {
          "output_type": "execute_result",
          "data": {
            "text/plain": [
              "0.5"
            ]
          },
          "metadata": {},
          "execution_count": 15
        }
      ],
      "source": [
        "from sklearn.metrics import mean_absolute_error\n",
        "y_true = [3, -0.5, 2, 7]\n",
        "y_pred = [2.5, 0.0, 2, 8]\n",
        "mean_absolute_error(y_true, y_pred)"
      ],
      "id": "vDy8Ve0bO1rE"
    },
    {
      "cell_type": "markdown",
      "metadata": {
        "id": "4kL1R3NQO1rE"
      },
      "source": [
        "#### r squared"
      ],
      "id": "4kL1R3NQO1rE"
    },
    {
      "cell_type": "code",
      "execution_count": 16,
      "metadata": {
        "colab": {
          "base_uri": "https://localhost:8080/"
        },
        "id": "sP69-x4TO1rE",
        "outputId": "55c6edef-1943-413c-8627-60b62023985a"
      },
      "outputs": [
        {
          "output_type": "execute_result",
          "data": {
            "text/plain": [
              "0.9486081370449679"
            ]
          },
          "metadata": {},
          "execution_count": 16
        }
      ],
      "source": [
        "from sklearn.metrics import r2_score\n",
        "\n",
        "r2_score(y_true, y_pred)"
      ],
      "id": "sP69-x4TO1rE"
    },
    {
      "cell_type": "markdown",
      "metadata": {
        "id": "effb3f9c"
      },
      "source": [
        "### Exploring parameter impact on AUC and R2"
      ],
      "id": "effb3f9c"
    },
    {
      "cell_type": "code",
      "metadata": {
        "colab": {
          "base_uri": "https://localhost:8080/"
        },
        "id": "a250dd07",
        "outputId": "9139b9a8-e0c4-4625-aeb6-392a65369db3"
      },
      "source": [
        "# Exploring the impact of changing parameters on AUC and R2 scores\n",
        "\n",
        "# For AUC, we'll use the Logistic Regression example from before\n",
        "X, y = load_breast_cancer(return_X_y=True)\n",
        "\n",
        "# Let's try changing the 'C' parameter and observe the AUC\n",
        "c_values = [0.1, 1.0, 10.0]\n",
        "auc_scores = []\n",
        "\n",
        "for c in c_values:\n",
        "    clf = LogisticRegression(solver=\"liblinear\", random_state=0, C=c).fit(X, y)\n",
        "    auc = roc_auc_score(y, clf.predict_proba(X)[:, 1])\n",
        "    auc_scores.append(auc)\n",
        "    print(f\"AUC with C={c}: {auc}\")\n",
        "\n",
        "# For R2, we'll use a simple linear regression example\n",
        "from sklearn.linear_model import LinearRegression\n",
        "from sklearn.metrics import r2_score\n",
        "import numpy as np\n",
        "\n",
        "# Generate some sample data\n",
        "np.random.seed(0)\n",
        "X_reg = np.random.rand(100, 1) * 10\n",
        "y_reg = 2 * X_reg + 1 + np.random.randn(100, 1) * 2\n",
        "\n",
        "# Let's try fitting with and without an intercept and observe the R2\n",
        "intercept_values = [True, False]\n",
        "r2_scores = []\n",
        "\n",
        "for fit_intercept in intercept_values:\n",
        "    lin_reg = LinearRegression(fit_intercept=fit_intercept)\n",
        "    lin_reg.fit(X_reg, y_reg)\n",
        "    y_pred_reg = lin_reg.predict(X_reg)\n",
        "    r2 = r2_score(y_reg, y_pred_reg)\n",
        "    r2_scores.append(r2)\n",
        "    print(f\"R2 with fit_intercept={fit_intercept}: {r2}\")"
      ],
      "id": "a250dd07",
      "execution_count": 17,
      "outputs": [
        {
          "output_type": "stream",
          "name": "stdout",
          "text": [
            "AUC with C=0.1: 0.9914116590032238\n",
            "AUC with C=1.0: 0.994767718408118\n",
            "AUC with C=10.0: 0.9952962317002273\n",
            "R2 with fit_intercept=True: 0.8921228838344972\n",
            "R2 with fit_intercept=False: 0.8767579623308761\n"
          ]
        }
      ]
    },
    {
      "cell_type": "code",
      "metadata": {
        "colab": {
          "base_uri": "https://localhost:8080/",
          "height": 990
        },
        "id": "f3c49eb3",
        "outputId": "c641297e-44f7-433e-a4d6-9fe2616a0588"
      },
      "source": [
        "# Visualize the impact of changing 'C' on AUC\n",
        "plt.figure(figsize=(8, 6))\n",
        "plt.plot(c_values, auc_scores, marker='o')\n",
        "plt.xscale('log') # Use log scale for C values\n",
        "plt.xlabel('C (Regularization Parameter)')\n",
        "plt.ylabel('AUC Score')\n",
        "plt.title('Impact of C on AUC')\n",
        "plt.grid(True)\n",
        "plt.show()\n",
        "\n",
        "# Visualize the impact of fit_intercept on R2\n",
        "plt.figure(figsize=(8, 6))\n",
        "plt.bar(['True', 'False'], r2_scores)\n",
        "plt.xlabel('fit_intercept')\n",
        "plt.ylabel('R2 Score')\n",
        "plt.title('Impact of fit_intercept on R2')\n",
        "plt.ylim([min(r2_scores) - 0.05, max(r2_scores) + 0.05]) # Adjust y-axis limits for better visualization\n",
        "plt.grid(axis='y')\n",
        "plt.show()"
      ],
      "id": "f3c49eb3",
      "execution_count": 19,
      "outputs": [
        {
          "output_type": "display_data",
          "data": {
            "text/plain": [
              "<Figure size 800x600 with 1 Axes>"
            ],
            "image/png": "[encoded data removed]"
          },
          "metadata": {}
        },
        {
          "output_type": "display_data",
          "data": {
            "text/plain": [
              "<Figure size 800x600 with 1 Axes>"
            ],
            "image/png": "[encoded data removed]"
          },
          "metadata": {}
        }
      ]
    },
    {
      "cell_type": "code",
      "execution_count": null,
      "metadata": {
        "id": "gXu54s_aO1rE"
      },
      "outputs": [],
      "source": [],
      "id": "gXu54s_aO1rE"
    },
    {
      "cell_type": "code",
      "execution_count": null,
      "metadata": {
        "id": "AWcNhQlSO1rE"
      },
      "outputs": [],
      "source": [],
      "id": "AWcNhQlSO1rE"
    }
  ],
  "metadata": {
    "kernelspec": {
      "display_name": "Python 3",
      "language": "python",
      "name": "python3"
    },
    "language_info": {
      "codemirror_mode": {
        "name": "ipython",
        "version": 3
      },
      "file_extension": ".py",
      "mimetype": "text/x-python",
      "name": "python",
      "nbconvert_exporter": "python",
      "pygments_lexer": "ipython3",
      "version": "3.7.6"
    },
    "colab": {
      "provenance": [],
      "include_colab_link": true
    }
  },
  "nbformat": 4,
  "nbformat_minor": 5
}